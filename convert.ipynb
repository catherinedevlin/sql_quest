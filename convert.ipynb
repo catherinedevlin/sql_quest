{
 "cells": [
  {
   "cell_type": "code",
   "execution_count": 1,
   "metadata": {
    "collapsed": false
   },
   "outputs": [
    {
     "name": "stdout",
     "output_type": "stream",
     "text": [
      "[{'charisma': '14',\n",
      "  'class': 'Fighter',\n",
      "  'constitution': '15',\n",
      "  'dexterity': '15',\n",
      "  'intelligence': '11',\n",
      "  'level': '5',\n",
      "  'name': 'Aelfryth',\n",
      "  'role': 'Thane',\n",
      "  'strength': '16',\n",
      "  'wisdom': '14'},\n",
      " {'charisma': '12',\n",
      "  'class': 'Fighter',\n",
      "  'constitution': '16',\n",
      "  'dexterity': '11',\n",
      "  'intelligence': '9',\n",
      "  'level': '4',\n",
      "  'name': 'Godric',\n",
      "  'role': 'Warband Member',\n",
      "  'strength': '17',\n",
      "  'wisdom': '7'},\n",
      " {'charisma': '11',\n",
      "  'class': 'Sourceror',\n",
      "  'constitution': '12',\n",
      "  'dexterity': '14',\n",
      "  'intelligence': '17',\n",
      "  'level': '5',\n",
      "  'name': 'Leofflaed',\n",
      "  'role': 'Enigma',\n",
      "  'strength': '8',\n",
      "  'wisdom': '11'},\n",
      " {'charisma': '10',\n",
      "  'class': 'Thief',\n",
      "  'constitution': '14',\n",
      "  'dexterity': '15',\n",
      "  'intelligence': '12',\n",
      "  'level': '3',\n",
      "  'name': 'Wigstan',\n",
      "  'role': 'Runaway Thrall',\n",
      "  'strength': '14',\n",
      "  'wisdom': '9'}]\n"
     ]
    }
   ],
   "source": [
    "from csv import DictReader\n",
    "from pprint import pprint\n",
    "from decimal import Decimal\n",
    "with open('party.multisheet/stats-Table 1.csv') as infile:\n",
    "    stats = list(DictReader(infile))\n",
    "with open('party.multisheet/equipment-Table 1.csv') as infile:\n",
    "    equipment = list(DictReader(infile))\n",
    "with open('party.multisheet/weapons-Table 1.csv') as infile:\n",
    "    weapons = list(DictReader(infile))\n",
    "pprint(stats)"
   ]
  },
  {
   "cell_type": "code",
   "execution_count": 7,
   "metadata": {
    "collapsed": false
   },
   "outputs": [],
   "source": [
    "equip_fields = 'quantity cost notes owner'.split()\n",
    "equip_fields.append('weight each')\n",
    "party = {}\n",
    "for character in stats:\n",
    "    party[character['name']] = {\n",
    "        'class': character['class'],\n",
    "        'role': character['role'],\n",
    "        'level': int(character['level']),\n",
    "        'stats': {f: int(character[f]) for f in \n",
    "                  'strength intelligence wisdom dexterity constitution charisma'\n",
    "                  .split()},\n",
    "        'equipment': {}\n",
    "        }\n",
    "    for itm in equipment:\n",
    "        if itm['owner'] == character['name']:\n",
    "            equip = {'magic': itm['magic'], \n",
    "                     'materials': itm['materials'].split(', '),\n",
    "                     'quantity': int(itm['quantity']),\n",
    "                     'weight each': float(itm['weight each']),\n",
    "                     'cost': float(itm['weight each']),\n",
    "                     'notes': itm['notes'],\n",
    "                    }\n",
    "            for weapon in weapons:\n",
    "                if weapon['name'] == itm['name']:\n",
    "                    equip['damage'] = weapon['damage']\n",
    "            party[character['name']]['equipment'][itm['name']] = equip\n",
    "            \n",
    "    "
   ]
  },
  {
   "cell_type": "code",
   "execution_count": 8,
   "metadata": {
    "collapsed": false
   },
   "outputs": [
    {
     "data": {
      "text/plain": [
       "{'Aelfryth': {'class': 'Fighter',\n",
       "  'equipment': {'Tent': {'cost': 15.0,\n",
       "    'magic': '',\n",
       "    'materials': ['cloth'],\n",
       "    'notes': 'sleeps 4',\n",
       "    'quantity': 1,\n",
       "    'weight each': 15.0},\n",
       "   'arrows': {'cost': 0.1,\n",
       "    'magic': '',\n",
       "    'materials': ['wood', 'iron'],\n",
       "    'notes': '',\n",
       "    'quantity': 12,\n",
       "    'weight each': 0.1},\n",
       "   'bow': {'cost': 2.0,\n",
       "    'damage': 'd6',\n",
       "    'magic': '',\n",
       "    'materials': ['wood'],\n",
       "    'notes': '',\n",
       "    'quantity': 1,\n",
       "    'weight each': 2.0},\n",
       "   'shield': {'cost': 10.0,\n",
       "    'magic': '',\n",
       "    'materials': ['wood', 'cloth'],\n",
       "    'notes': '',\n",
       "    'quantity': 1,\n",
       "    'weight each': 10.0}},\n",
       "  'level': 5,\n",
       "  'role': 'Thane',\n",
       "  'stats': {'charisma': 14,\n",
       "   'constitution': 15,\n",
       "   'dexterity': 15,\n",
       "   'intelligence': 11,\n",
       "   'strength': 16,\n",
       "   'wisdom': 14}},\n",
       " 'Godric': {'class': 'Fighter',\n",
       "  'equipment': {'30’ rope': {'cost': 10.0,\n",
       "    'magic': '',\n",
       "    'materials': ['hemp'],\n",
       "    'notes': '',\n",
       "    'quantity': 1,\n",
       "    'weight each': 10.0},\n",
       "   'battleaxe': {'cost': 7.0,\n",
       "    'damage': 'd8',\n",
       "    'magic': '+1',\n",
       "    'materials': ['wood', 'iron'],\n",
       "    'notes': '',\n",
       "    'quantity': 1,\n",
       "    'weight each': 7.0},\n",
       "   'torches': {'cost': 2.0,\n",
       "    'magic': '',\n",
       "    'materials': ['wood'],\n",
       "    'notes': '',\n",
       "    'quantity': 6,\n",
       "    'weight each': 2.0}},\n",
       "  'level': 4,\n",
       "  'role': 'Warband Member',\n",
       "  'stats': {'charisma': 12,\n",
       "   'constitution': 16,\n",
       "   'dexterity': 11,\n",
       "   'intelligence': 9,\n",
       "   'strength': 17,\n",
       "   'wisdom': 7}},\n",
       " 'Leofflaed': {'class': 'Sourceror',\n",
       "  'equipment': {'Oil of Revelation': {'cost': 1.0,\n",
       "    'magic': 'Y',\n",
       "    'materials': ['oil', 'spices'],\n",
       "    'notes': 'Burned in any lamp, its light reveals all illusions, disguises, invisible',\n",
       "    'quantity': 1,\n",
       "    'weight each': 1.0},\n",
       "   'Unfailing Flint': {'cost': 0.1,\n",
       "    'magic': 'Y',\n",
       "    'materials': ['stone'],\n",
       "    'notes': 'Immediately ignites in any weather',\n",
       "    'quantity': 1,\n",
       "    'weight each': 0.1},\n",
       "   'lamp': {'cost': 0.2,\n",
       "    'magic': '',\n",
       "    'materials': ['clay'],\n",
       "    'notes': '',\n",
       "    'quantity': 1,\n",
       "    'weight each': 0.2}},\n",
       "  'level': 5,\n",
       "  'role': 'Enigma',\n",
       "  'stats': {'charisma': 11,\n",
       "   'constitution': 12,\n",
       "   'dexterity': 14,\n",
       "   'intelligence': 17,\n",
       "   'strength': 8,\n",
       "   'wisdom': 11}},\n",
       " 'Wigstan': {'class': 'Thief',\n",
       "  'equipment': {'cookpot': {'cost': 10.0,\n",
       "    'magic': '',\n",
       "    'materials': ['iron'],\n",
       "    'notes': '',\n",
       "    'quantity': 1,\n",
       "    'weight each': 10.0},\n",
       "   'cudgel': {'cost': 3.0,\n",
       "    'damage': 'd6',\n",
       "    'magic': '',\n",
       "    'materials': ['wood'],\n",
       "    'notes': '',\n",
       "    'quantity': 1,\n",
       "    'weight each': 3.0},\n",
       "   'dagger': {'cost': 1.0,\n",
       "    'damage': 'd4',\n",
       "    'magic': '',\n",
       "    'materials': ['iron'],\n",
       "    'notes': '',\n",
       "    'quantity': 1,\n",
       "    'weight each': 1.0},\n",
       "   'torches': {'cost': 2.0,\n",
       "    'magic': '',\n",
       "    'materials': ['wood'],\n",
       "    'notes': '',\n",
       "    'quantity': 3,\n",
       "    'weight each': 2.0}},\n",
       "  'level': 3,\n",
       "  'role': 'Runaway Thrall',\n",
       "  'stats': {'charisma': 10,\n",
       "   'constitution': 14,\n",
       "   'dexterity': 15,\n",
       "   'intelligence': 12,\n",
       "   'strength': 14,\n",
       "   'wisdom': 9}}}"
      ]
     },
     "execution_count": 8,
     "metadata": {},
     "output_type": "execute_result"
    }
   ],
   "source": [
    "party"
   ]
  },
  {
   "cell_type": "code",
   "execution_count": 9,
   "metadata": {
    "collapsed": false
   },
   "outputs": [
    {
     "data": {
      "text/plain": [
       "float"
      ]
     },
     "execution_count": 9,
     "metadata": {},
     "output_type": "execute_result"
    }
   ],
   "source": [
    "type(party['Aelfryth']['equipment']['arrows']['cost'])"
   ]
  },
  {
   "cell_type": "code",
   "execution_count": 10,
   "metadata": {
    "collapsed": true
   },
   "outputs": [],
   "source": [
    "import json"
   ]
  },
  {
   "cell_type": "code",
   "execution_count": 14,
   "metadata": {
    "collapsed": true
   },
   "outputs": [],
   "source": [
    "p2 = [{'name': k, **v} for (k, v) in party.items()]"
   ]
  },
  {
   "cell_type": "code",
   "execution_count": 16,
   "metadata": {
    "collapsed": true
   },
   "outputs": [],
   "source": [
    "with open('party.json', 'w') as outfile:\n",
    "    json.dump(p2, outfile, indent=2)"
   ]
  },
  {
   "cell_type": "code",
   "execution_count": 11,
   "metadata": {
    "collapsed": false
   },
   "outputs": [],
   "source": [
    "for (name, doc) in party.items():\n",
    "    with open('party/%s.json' % name, 'w') as outfile:\n",
    "        doc['name'] = name\n",
    "        json.dump(doc, outfile, indent=2)"
   ]
  },
  {
   "cell_type": "code",
   "execution_count": 12,
   "metadata": {
    "collapsed": false
   },
   "outputs": [
    {
     "name": "stdout",
     "output_type": "stream",
     "text": [
      "{\r\n",
      "  \"class\": \"Fighter\",\r\n",
      "  \"role\": \"Thane\",\r\n",
      "  \"level\": 5,\r\n",
      "  \"equipment\": {\r\n",
      "    \"bow\": {\r\n",
      "      \"quantity\": 1,\r\n",
      "      \"materials\": [\r\n",
      "        \"wood\"\r\n",
      "      ],\r\n",
      "      \"weight each\": 2.0,\r\n",
      "      \"magic\": \"\",\r\n",
      "      \"notes\": \"\",\r\n",
      "      \"cost\": 2.0,\r\n",
      "      \"damage\": \"d6\"\r\n",
      "    },\r\n",
      "    \"Tent\": {\r\n",
      "      \"quantity\": 1,\r\n",
      "      \"materials\": [\r\n",
      "        \"cloth\"\r\n",
      "      ],\r\n",
      "      \"weight each\": 15.0,\r\n",
      "      \"magic\": \"\",\r\n",
      "      \"notes\": \"sleeps 4\",\r\n",
      "      \"cost\": 15.0\r\n",
      "    },\r\n",
      "    \"shield\": {\r\n",
      "      \"quantity\": 1,\r\n",
      "      \"materials\": [\r\n",
      "        \"wood\",\r\n",
      "        \"cloth\"\r\n",
      "      ],\r\n",
      "      \"weight each\": 10.0,\r\n",
      "      \"magic\": \"\",\r\n",
      "      \"notes\": \"\",\r\n",
      "      \"cost\": 10.0\r\n",
      "    },\r\n",
      "    \"arrows\": {\r\n",
      "      \"quantity\": 12,\r\n",
      "      \"materials\": [\r\n",
      "        \"wood\",\r\n",
      "        \"iron\"\r\n",
      "      ],\r\n",
      "      \"weight each\": 0.1,\r\n",
      "      \"magic\": \"\",\r\n",
      "      \"notes\": \"\",\r\n",
      "      \"cost\": 0.1\r\n",
      "    }\r\n",
      "  },\r\n",
      "  \"name\": \"Aelfryth\",\r\n",
      "  \"stats\": {\r\n",
      "    \"dexterity\": 15,\r\n",
      "    \"charisma\": 14,\r\n",
      "    \"strength\": 16,\r\n",
      "    \"wisdom\": 14,\r\n",
      "    \"intelligence\": 11,\r\n",
      "    \"constitution\": 15\r\n",
      "  }\r\n",
      "}"
     ]
    }
   ],
   "source": [
    "!cat party/Aelfryth.json"
   ]
  },
  {
   "cell_type": "code",
   "execution_count": null,
   "metadata": {
    "collapsed": true
   },
   "outputs": [],
   "source": []
  }
 ],
 "metadata": {
  "kernelspec": {
   "display_name": "Python 3",
   "language": "python",
   "name": "python3"
  },
  "language_info": {
   "codemirror_mode": {
    "name": "ipython",
    "version": 3
   },
   "file_extension": ".py",
   "mimetype": "text/x-python",
   "name": "python",
   "nbconvert_exporter": "python",
   "pygments_lexer": "ipython3",
   "version": "3.5.0rc4"
  }
 },
 "nbformat": 4,
 "nbformat_minor": 0
}
