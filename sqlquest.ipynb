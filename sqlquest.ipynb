{
 "cells": [
  {
   "cell_type": "markdown",
   "metadata": {
    "slideshow": {
     "slide_type": "slide"
    }
   },
   "source": [
    "# SQLQuest\n",
    "\n",
    "Catherine Devlin\n",
    "\n",
    "Ohio LinuxFest 2015\n",
    "\n",
    "https://github.com/catherinedevlin/sql_quest\n",
    "\n",
    "![knights](img/knights.jpg)\n"
   ]
  },
  {
   "cell_type": "markdown",
   "metadata": {
    "slideshow": {
     "slide_type": "slide"
    }
   },
   "source": [
    "# Adventure Synopsis\n",
    "\n",
    "* Basic: CSV\n",
    "* Advanced: JSON\n",
    "* Expert: Relational\n",
    "\n",
    "![duel with monster](img/monster_duel.jpg)"
   ]
  },
  {
   "cell_type": "markdown",
   "metadata": {
    "slideshow": {
     "slide_type": "slide"
    }
   },
   "source": [
    "# In the beginning...\n",
    "\n",
    "![D&D character sheet](img/charsheet.png)"
   ]
  },
  {
   "cell_type": "markdown",
   "metadata": {
    "slideshow": {
     "slide_type": "slide"
    }
   },
   "source": [
    "# Into Electronica\n",
    "\n",
    "All but useless ectronically"
   ]
  },
  {
   "cell_type": "code",
   "execution_count": 1,
   "metadata": {
    "collapsed": true,
    "slideshow": {
     "slide_type": "fragment"
    }
   },
   "outputs": [],
   "source": [
    "!libreoffice data/aelfryth.odt"
   ]
  },
  {
   "cell_type": "markdown",
   "metadata": {
    "slideshow": {
     "slide_type": "slide"
    }
   },
   "source": [
    "# CSV"
   ]
  },
  {
   "cell_type": "code",
   "execution_count": 7,
   "metadata": {
    "collapsed": false,
    "scrolled": true,
    "slideshow": {
     "slide_type": "fragment"
    }
   },
   "outputs": [
    {
     "name": "stdout",
     "output_type": "stream",
     "text": [
      "name,class,role,level,strength,intelligence,wisdom,dexterity,constitution,charisma,equip 1 name,equip 1 quantity,equip 1 weight each,equip 1 cost,equip 1 magic,equip 1 materials,equip 1 notes,equip 2 name,equip 2 quantity,equip 2 weight each,equip 2 cost,equip 2 magic,equip 2 materials,equip 2 notes,equip 3 name,equip 3 quantity,equip 3 weight each,equip 3 cost,equip 3 magic,equip 3 materials,equip 3 notes,equip 4 name,equip 4 quantity,equip 4 weight each,equip 4 cost,equip 4 magic,equip 4 materials,equip 4 notes\r",
      "\r\n",
      "Aelfryth,Fighter,Thane,5,16,11,14,15,15,14,shield,1,10,7,,\"wood, cloth\",,Tent,1,15,4,,cloth,sleeps 4,bow,1,2,30,,wood,,arrows,12,0.1,0.1,,\"wood, iron\",\r",
      "\r\n",
      "Godric,Fighter,Warband member,4,17,9,7,11,16,12,battleaxe,1,7,5,+1,\"wood, iron\",,30’ rope,1,10,0.1,,hemp,,torches,6,2,0.02,,wood,,,,,,,,\r",
      "\r\n",
      "Leofflaed,Sourceror,Enigma,5,8,17,11,14,12,11,Oil of Revelation,1,1,50,Y,\"oil, spices\",\"Burned in any lamp, its light reveals all illusions, disguises, invisible\",Unfailing Flint,1,0.1,500,Y,stone,Immediately ignites regardless of moisture,lamp,1,0.2,0.5,,clay,,,,,,,,\r",
      "\r\n",
      "Wigstan,Thief,Runaway thrall,3,14,12,9,15,14,10,cudgel,1,3,0.1,,wood,,cookpot,1,10,0.3,,iron,,dagger,1,1,2,,iron,,torches,3,2,0.02,,wood,"
     ]
    }
   ],
   "source": [
    "!libreoffice data/party.ods\n",
    "!cat data/party.csv"
   ]
  },
  {
   "cell_type": "code",
   "execution_count": 8,
   "metadata": {
    "collapsed": false,
    "slideshow": {
     "slide_type": "slide"
    }
   },
   "outputs": [
    {
     "name": "stdout",
     "output_type": "stream",
     "text": [
      "[{'charisma': '14',\n",
      "  'class': 'Fighter',\n",
      "  'constitution': '15',\n",
      "  'dexterity': '15',\n",
      "  'equip 1 cost': '7',\n",
      "  'equip 1 magic': '',\n",
      "  'equip 1 materials': 'wood, cloth',\n",
      "  'equip 1 name': 'shield',\n",
      "  'equip 1 notes': '',\n",
      "  'equip 1 quantity': '1',\n",
      "  'equip 1 weight each': '10',\n",
      "  'equip 2 cost': '4',\n",
      "  'equip 2 magic': '',\n",
      "  'equip 2 materials': 'cloth',\n",
      "  'equip 2 name': 'Tent',\n",
      "  'equip 2 notes': 'sleeps 4',\n",
      "  'equip 2 quantity': '1',\n",
      "  'equip 2 weight each': '15',\n",
      "  'equip 3 cost': '30',\n",
      "  'equip 3 magic': '',\n",
      "  'equip 3 materials': 'wood',\n",
      "  'equip 3 name': 'bow',\n",
      "  'equip 3 notes': '',\n",
      "  'equip 3 quantity': '1',\n",
      "  'equip 3 weight each': '2',\n",
      "  'equip 4 cost': '0.1',\n",
      "  'equip 4 magic': '',\n",
      "  'equip 4 materials': 'wood, iron',\n",
      "  'equip 4 name': 'arrows',\n",
      "  'equip 4 notes': '',\n",
      "  'equip 4 quantity': '12',\n",
      "  'equip 4 weight each': '0.1',\n",
      "  'intelligence': '11',\n",
      "  'level': '5',\n",
      "  'name': 'Aelfryth',\n",
      "  'role': 'Thane',\n",
      "  'strength': '16',\n",
      "  'wisdom': '14'},\n",
      " {'charisma': '12',\n",
      "  'class': 'Fighter',\n",
      "  'constitution': '16',\n",
      "  'dexterity': '11',\n",
      "  'equip 1 cost': '5',\n",
      "  'equip 1 magic': '+1',\n",
      "  'equip 1 materials': 'wood, iron',\n",
      "  'equip 1 name': 'battleaxe',\n",
      "  'equip 1 notes': '',\n",
      "  'equip 1 quantity': '1',\n",
      "  'equip 1 weight each': '7',\n",
      "  'equip 2 cost': '0.1',\n",
      "  'equip 2 magic': '',\n",
      "  'equip 2 materials': 'hemp',\n",
      "  'equip 2 name': '30’ rope',\n",
      "  'equip 2 notes': '',\n",
      "  'equip 2 quantity': '1',\n",
      "  'equip 2 weight each': '10',\n",
      "  'equip 3 cost': '0.02',\n",
      "  'equip 3 magic': '',\n",
      "  'equip 3 materials': 'wood',\n",
      "  'equip 3 name': 'torches',\n",
      "  'equip 3 notes': '',\n",
      "  'equip 3 quantity': '6',\n",
      "  'equip 3 weight each': '2',\n",
      "  'equip 4 cost': '',\n",
      "  'equip 4 magic': '',\n",
      "  'equip 4 materials': '',\n",
      "  'equip 4 name': '',\n",
      "  'equip 4 notes': '',\n",
      "  'equip 4 quantity': '',\n",
      "  'equip 4 weight each': '',\n",
      "  'intelligence': '9',\n",
      "  'level': '4',\n",
      "  'name': 'Godric',\n",
      "  'role': 'Warband member',\n",
      "  'strength': '17',\n",
      "  'wisdom': '7'},\n",
      " {'charisma': '11',\n",
      "  'class': 'Sourceror',\n",
      "  'constitution': '12',\n",
      "  'dexterity': '14',\n",
      "  'equip 1 cost': '50',\n",
      "  'equip 1 magic': 'Y',\n",
      "  'equip 1 materials': 'oil, spices',\n",
      "  'equip 1 name': 'Oil of Revelation',\n",
      "  'equip 1 notes': 'Burned in any lamp, its light reveals all illusions, '\n",
      "                   'disguises, invisible',\n",
      "  'equip 1 quantity': '1',\n",
      "  'equip 1 weight each': '1',\n",
      "  'equip 2 cost': '500',\n",
      "  'equip 2 magic': 'Y',\n",
      "  'equip 2 materials': 'stone',\n",
      "  'equip 2 name': 'Unfailing Flint',\n",
      "  'equip 2 notes': 'Immediately ignites regardless of moisture',\n",
      "  'equip 2 quantity': '1',\n",
      "  'equip 2 weight each': '0.1',\n",
      "  'equip 3 cost': '0.5',\n",
      "  'equip 3 magic': '',\n",
      "  'equip 3 materials': 'clay',\n",
      "  'equip 3 name': 'lamp',\n",
      "  'equip 3 notes': '',\n",
      "  'equip 3 quantity': '1',\n",
      "  'equip 3 weight each': '0.2',\n",
      "  'equip 4 cost': '',\n",
      "  'equip 4 magic': '',\n",
      "  'equip 4 materials': '',\n",
      "  'equip 4 name': '',\n",
      "  'equip 4 notes': '',\n",
      "  'equip 4 quantity': '',\n",
      "  'equip 4 weight each': '',\n",
      "  'intelligence': '17',\n",
      "  'level': '5',\n",
      "  'name': 'Leofflaed',\n",
      "  'role': 'Enigma',\n",
      "  'strength': '8',\n",
      "  'wisdom': '11'},\n",
      " {'charisma': '10',\n",
      "  'class': 'Thief',\n",
      "  'constitution': '14',\n",
      "  'dexterity': '15',\n",
      "  'equip 1 cost': '0.1',\n",
      "  'equip 1 magic': '',\n",
      "  'equip 1 materials': 'wood',\n",
      "  'equip 1 name': 'cudgel',\n",
      "  'equip 1 notes': '',\n",
      "  'equip 1 quantity': '1',\n",
      "  'equip 1 weight each': '3',\n",
      "  'equip 2 cost': '0.3',\n",
      "  'equip 2 magic': '',\n",
      "  'equip 2 materials': 'iron',\n",
      "  'equip 2 name': 'cookpot',\n",
      "  'equip 2 notes': '',\n",
      "  'equip 2 quantity': '1',\n",
      "  'equip 2 weight each': '10',\n",
      "  'equip 3 cost': '2',\n",
      "  'equip 3 magic': '',\n",
      "  'equip 3 materials': 'iron',\n",
      "  'equip 3 name': 'dagger',\n",
      "  'equip 3 notes': '',\n",
      "  'equip 3 quantity': '1',\n",
      "  'equip 3 weight each': '1',\n",
      "  'equip 4 cost': '0.02',\n",
      "  'equip 4 magic': '',\n",
      "  'equip 4 materials': 'wood',\n",
      "  'equip 4 name': 'torches',\n",
      "  'equip 4 notes': '',\n",
      "  'equip 4 quantity': '3',\n",
      "  'equip 4 weight each': '2',\n",
      "  'intelligence': '12',\n",
      "  'level': '3',\n",
      "  'name': 'Wigstan',\n",
      "  'role': 'Runaway thrall',\n",
      "  'strength': '14',\n",
      "  'wisdom': '9'}]\n"
     ]
    }
   ],
   "source": [
    "from csv import DictReader\n",
    "from pprint import pprint\n",
    "with open('data/party.csv') as infile:\n",
    "    party = list(DictReader(infile))\n",
    "    \n",
    "pprint(party)"
   ]
  },
  {
   "cell_type": "markdown",
   "metadata": {
    "slideshow": {
     "slide_type": "slide"
    }
   },
   "source": [
    "# Answering questions\n",
    "\n",
    "How much weight are the party's fighters carrying?"
   ]
  },
  {
   "cell_type": "code",
   "execution_count": 3,
   "metadata": {
    "collapsed": false,
    "slideshow": {
     "slide_type": "fragment"
    }
   },
   "outputs": [
    {
     "name": "stdout",
     "output_type": "stream",
     "text": [
      "56.0\n"
     ]
    }
   ],
   "source": [
    "total_weight = 0\n",
    "for character in party:\n",
    "    if character['class'] == 'Fighter':\n",
    "        for eq_index in range(1, 4):\n",
    "            try:\n",
    "                quantity = int(character['equip %d quantity' % eq_index])\n",
    "                weight_each = float(character['equip %d weight each' % eq_index])\n",
    "                total_weight += quantity * weight_each\n",
    "            except (TypeError, ValueError):\n",
    "                pass\n",
    "print(total_weight)"
   ]
  },
  {
   "cell_type": "markdown",
   "metadata": {
    "slideshow": {
     "slide_type": "slide"
    }
   },
   "source": [
    "# Save vs. Confusion\n",
    "\n",
    "* custom program\n",
    "* hardcoded number of equipment slots\n",
    "\n",
    "![lost](img/lost.jpg)"
   ]
  },
  {
   "cell_type": "markdown",
   "metadata": {
    "slideshow": {
     "slide_type": "slide"
    }
   },
   "source": [
    "# Relational (from CSV)"
   ]
  },
  {
   "cell_type": "code",
   "execution_count": 10,
   "metadata": {
    "collapsed": true,
    "slideshow": {
     "slide_type": "fragment"
    }
   },
   "outputs": [],
   "source": [
    "!libreoffice data/party.multisheet.ods"
   ]
  },
  {
   "cell_type": "code",
   "execution_count": 11,
   "metadata": {
    "collapsed": false,
    "slideshow": {
     "slide_type": "slide"
    }
   },
   "outputs": [
    {
     "name": "stdout",
     "output_type": "stream",
     "text": [
      "[{'charisma': '14',\n",
      "  'class': 'Fighter',\n",
      "  'constitution': '15',\n",
      "  'dexterity': '15',\n",
      "  'intelligence': '11',\n",
      "  'level': '5',\n",
      "  'name': 'Aelfryth',\n",
      "  'role': 'Thane',\n",
      "  'strength': '16',\n",
      "  'wisdom': '14'},\n",
      " {'charisma': '12',\n",
      "  'class': 'Fighter',\n",
      "  'constitution': '16',\n",
      "  'dexterity': '11',\n",
      "  'intelligence': '9',\n",
      "  'level': '4',\n",
      "  'name': 'Godric',\n",
      "  'role': 'Warband Member',\n",
      "  'strength': '17',\n",
      "  'wisdom': '7'},\n",
      " {'charisma': '11',\n",
      "  'class': 'Sourceror',\n",
      "  'constitution': '12',\n",
      "  'dexterity': '14',\n",
      "  'intelligence': '17',\n",
      "  'level': '5',\n",
      "  'name': 'Leofflaed',\n",
      "  'role': 'Enigma',\n",
      "  'strength': '8',\n",
      "  'wisdom': '11'},\n",
      " {'charisma': '10',\n",
      "  'class': 'Thief',\n",
      "  'constitution': '14',\n",
      "  'dexterity': '15',\n",
      "  'intelligence': '12',\n",
      "  'level': '3',\n",
      "  'name': 'Wigstan',\n",
      "  'role': 'Runaway Thrall',\n",
      "  'strength': '14',\n",
      "  'wisdom': '9'}]\n"
     ]
    }
   ],
   "source": [
    "from csv import DictReader\n",
    "from pprint import pprint\n",
    "with open('data/party.multisheet/stats-Table 1.csv') as infile:\n",
    "    stats = list(DictReader(infile))\n",
    "with open('data/party.multisheet/equipment-Table 1.csv') as infile:\n",
    "    equipment = list(DictReader(infile))\n",
    "pprint(stats)"
   ]
  },
  {
   "cell_type": "code",
   "execution_count": 24,
   "metadata": {
    "collapsed": false,
    "slideshow": {
     "slide_type": "slide"
    }
   },
   "outputs": [
    {
     "name": "stdout",
     "output_type": "stream",
     "text": [
      "57.2\n"
     ]
    }
   ],
   "source": [
    "total_weight = 0\n",
    "for character in stats:\n",
    "    if character['class'] == 'Fighter':\n",
    "        for itm in equipment:\n",
    "            if itm['owner'] == character['name']:\n",
    "                try:\n",
    "                    quantity = int(itm['quantity'])\n",
    "                    weight_each = float(itm['weight each'])\n",
    "                    total_weight += quantity * weight_each\n",
    "                except (TypeError, ValueError):\n",
    "                    pass\n",
    "print(total_weight)"
   ]
  },
  {
   "cell_type": "markdown",
   "metadata": {
    "slideshow": {
     "slide_type": "slide"
    }
   },
   "source": [
    "# Still ouch\n",
    "\n",
    "![pained face](img/ouch.jpg)"
   ]
  },
  {
   "cell_type": "markdown",
   "metadata": {
    "slideshow": {
     "slide_type": "slide"
    }
   },
   "source": [
    "# JSON\n",
    "\n",
    "arbitrary structure"
   ]
  },
  {
   "cell_type": "code",
   "execution_count": 12,
   "metadata": {
    "collapsed": false,
    "slideshow": {
     "slide_type": "fragment"
    }
   },
   "outputs": [
    {
     "name": "stdout",
     "output_type": "stream",
     "text": [
      "[\r\n",
      "  {\r\n",
      "    \"class\": \"Thief\",\r\n",
      "    \"role\": \"Runaway Thrall\",\r\n",
      "    \"level\": 3,\r\n",
      "    \"equipment\": {\r\n",
      "      \"torches\": {\r\n",
      "        \"quantity\": 3,\r\n",
      "        \"materials\": [\r\n",
      "          \"wood\"\r\n",
      "        ],\r\n",
      "        \"weight each\": 2.0,\r\n",
      "        \"magic\": \"\",\r\n",
      "        \"notes\": \"\",\r\n",
      "        \"cost\": 2.0\r\n",
      "      },\r\n",
      "      \"cudgel\": {\r\n",
      "        \"quantity\": 1,\r\n",
      "        \"materials\": [\r\n",
      "          \"wood\"\r\n",
      "        ],\r\n",
      "        \"weight each\": 3.0,\r\n",
      "        \"magic\": \"\",\r\n",
      "        \"notes\": \"\",\r\n",
      "        \"cost\": 3.0,\r\n",
      "        \"damage\": \"d6\"\r\n",
      "      },\r\n",
      "      \"cookpot\": {\r\n",
      "        \"quantity\": 1,\r\n",
      "        \"materials\": [\r\n",
      "          \"iron\"\r\n",
      "        ],\r\n",
      "        \"weight each\": 10.0,\r\n",
      "        \"magic\": \"\",\r\n",
      "        \"notes\": \"\",\r\n",
      "        \"cost\": 10.0\r\n",
      "      },\r\n",
      "      \"dagger\": {\r\n",
      "        \"quantity\": 1,\r\n",
      "        \"materials\": [\r\n",
      "          \"iron\"\r\n",
      "        ],\r\n",
      "        \"weight each\": 1.0,\r\n",
      "        \"magic\": \"\",\r\n",
      "        \"notes\": \"\",\r\n",
      "        \"cost\": 1.0,\r\n",
      "        \"damage\": \"d4\"\r\n",
      "      }\r\n",
      "    },\r\n",
      "    \"name\": \"Wigstan\",\r\n",
      "    \"stats\": {\r\n",
      "      \"dexterity\": 15,\r\n",
      "      \"charisma\": 10,\r\n",
      "      \"strength\": 14,\r\n",
      "      \"wisdom\": 9,\r\n",
      "      \"intelligence\": 12,\r\n",
      "      \"constitution\": 14\r\n",
      "    }\r\n",
      "  },\r\n",
      "  {\r\n",
      "    \"class\": \"Fighter\",\r\n",
      "    \"role\": \"Thane\",\r\n",
      "    \"level\": 5,\r\n",
      "    \"equipment\": {\r\n",
      "      \"bow\": {\r\n",
      "        \"quantity\": 1,\r\n",
      "        \"materials\": [\r\n",
      "          \"wood\"\r\n",
      "        ],\r\n",
      "        \"weight each\": 2.0,\r\n",
      "        \"magic\": \"\",\r\n",
      "        \"notes\": \"\",\r\n",
      "        \"cost\": 2.0,\r\n",
      "        \"damage\": \"d6\"\r\n",
      "      },\r\n",
      "      \"Tent\": {\r\n",
      "        \"quantity\": 1,\r\n",
      "        \"materials\": [\r\n",
      "          \"cloth\"\r\n",
      "        ],\r\n",
      "        \"weight each\": 15.0,\r\n",
      "        \"magic\": \"\",\r\n",
      "        \"notes\": \"sleeps 4\",\r\n",
      "        \"cost\": 15.0\r\n",
      "      },\r\n",
      "      \"shield\": {\r\n",
      "        \"quantity\": 1,\r\n",
      "        \"materials\": [\r\n",
      "          \"wood\",\r\n",
      "          \"cloth\"\r\n",
      "        ],\r\n",
      "        \"weight each\": 10.0,\r\n",
      "        \"magic\": \"\",\r\n",
      "        \"notes\": \"\",\r\n",
      "        \"cost\": 10.0\r\n",
      "      },\r\n",
      "      \"arrows\": {\r\n",
      "        \"quantity\": 12,\r\n",
      "        \"materials\": [\r\n",
      "          \"wood\",\r\n",
      "          \"iron\"\r\n",
      "        ],\r\n",
      "        \"weight each\": 0.1,\r\n",
      "        \"magic\": \"\",\r\n",
      "        \"notes\": \"\",\r\n",
      "        \"cost\": 0.1\r\n",
      "      }\r\n",
      "    },\r\n",
      "    \"name\": \"Aelfryth\",\r\n",
      "    \"stats\": {\r\n",
      "      \"dexterity\": 15,\r\n",
      "      \"charisma\": 14,\r\n",
      "      \"strength\": 16,\r\n",
      "      \"wisdom\": 14,\r\n",
      "      \"intelligence\": 11,\r\n",
      "      \"constitution\": 15\r\n",
      "    }\r\n",
      "  },\r\n",
      "  {\r\n",
      "    \"class\": \"Sourceror\",\r\n",
      "    \"role\": \"Enigma\",\r\n",
      "    \"level\": 5,\r\n",
      "    \"equipment\": {\r\n",
      "      \"Unfailing Flint\": {\r\n",
      "        \"quantity\": 1,\r\n",
      "        \"materials\": [\r\n",
      "          \"stone\"\r\n",
      "        ],\r\n",
      "        \"weight each\": 0.1,\r\n",
      "        \"magic\": \"Y\",\r\n",
      "        \"notes\": \"Immediately ignites in any weather\",\r\n",
      "        \"cost\": 0.1\r\n",
      "      },\r\n",
      "      \"lamp\": {\r\n",
      "        \"quantity\": 1,\r\n",
      "        \"materials\": [\r\n",
      "          \"clay\"\r\n",
      "        ],\r\n",
      "        \"weight each\": 0.2,\r\n",
      "        \"magic\": \"\",\r\n",
      "        \"notes\": \"\",\r\n",
      "        \"cost\": 0.2\r\n",
      "      },\r\n",
      "      \"Oil of Revelation\": {\r\n",
      "        \"quantity\": 1,\r\n",
      "        \"materials\": [\r\n",
      "          \"oil\",\r\n",
      "          \"spices\"\r\n",
      "        ],\r\n",
      "        \"weight each\": 1.0,\r\n",
      "        \"magic\": \"Y\",\r\n",
      "        \"notes\": \"Burned in any lamp, its light reveals all illusions, disguises, invisible\",\r\n",
      "        \"cost\": 1.0\r\n",
      "      }\r\n",
      "    },\r\n",
      "    \"name\": \"Leofflaed\",\r\n",
      "    \"stats\": {\r\n",
      "      \"dexterity\": 14,\r\n",
      "      \"charisma\": 11,\r\n",
      "      \"strength\": 8,\r\n",
      "      \"wisdom\": 11,\r\n",
      "      \"intelligence\": 17,\r\n",
      "      \"constitution\": 12\r\n",
      "    }\r\n",
      "  },\r\n",
      "  {\r\n",
      "    \"class\": \"Fighter\",\r\n",
      "    \"role\": \"Warband Member\",\r\n",
      "    \"level\": 4,\r\n",
      "    \"equipment\": {\r\n",
      "      \"torches\": {\r\n",
      "        \"quantity\": 6,\r\n",
      "        \"materials\": [\r\n",
      "          \"wood\"\r\n",
      "        ],\r\n",
      "        \"weight each\": 2.0,\r\n",
      "        \"magic\": \"\",\r\n",
      "        \"notes\": \"\",\r\n",
      "        \"cost\": 2.0\r\n",
      "      },\r\n",
      "      \"30\\u2019 rope\": {\r\n",
      "        \"quantity\": 1,\r\n",
      "        \"materials\": [\r\n",
      "          \"hemp\"\r\n",
      "        ],\r\n",
      "        \"weight each\": 10.0,\r\n",
      "        \"magic\": \"\",\r\n",
      "        \"notes\": \"\",\r\n",
      "        \"cost\": 10.0\r\n",
      "      },\r\n",
      "      \"battleaxe\": {\r\n",
      "        \"quantity\": 1,\r\n",
      "        \"materials\": [\r\n",
      "          \"wood\",\r\n",
      "          \"iron\"\r\n",
      "        ],\r\n",
      "        \"weight each\": 7.0,\r\n",
      "        \"magic\": \"+1\",\r\n",
      "        \"notes\": \"\",\r\n",
      "        \"cost\": 7.0,\r\n",
      "        \"damage\": \"d8\"\r\n",
      "      }\r\n",
      "    },\r\n",
      "    \"name\": \"Godric\",\r\n",
      "    \"stats\": {\r\n",
      "      \"dexterity\": 11,\r\n",
      "      \"charisma\": 12,\r\n",
      "      \"strength\": 17,\r\n",
      "      \"wisdom\": 7,\r\n",
      "      \"intelligence\": 9,\r\n",
      "      \"constitution\": 16\r\n",
      "    }\r\n",
      "  }\r\n",
      "]"
     ]
    }
   ],
   "source": [
    "!cat data/party.json"
   ]
  },
  {
   "cell_type": "markdown",
   "metadata": {
    "slideshow": {
     "slide_type": "slide"
    }
   },
   "source": [
    "How much does all the fighters' equipment weigh?"
   ]
  },
  {
   "cell_type": "code",
   "execution_count": 2,
   "metadata": {
    "collapsed": false,
    "slideshow": {
     "slide_type": "fragment"
    }
   },
   "outputs": [
    {
     "name": "stdout",
     "output_type": "stream",
     "text": [
      "57.2\n"
     ]
    }
   ],
   "source": [
    "import json\n",
    "import glob\n",
    "total_weight = 0\n",
    "with open('data/party.json') as infile:\n",
    "    for character in json.load(infile):\n",
    "        if character['class'] == 'Fighter':\n",
    "            for itm in character['equipment'].values():\n",
    "                total_weight += (itm['quantity'] * itm['weight each'])\n",
    "print(total_weight)"
   ]
  },
  {
   "cell_type": "markdown",
   "metadata": {
    "slideshow": {
     "slide_type": "slide"
    }
   },
   "source": [
    "# Consistency"
   ]
  },
  {
   "cell_type": "code",
   "execution_count": 45,
   "metadata": {
    "collapsed": false,
    "slideshow": {
     "slide_type": "fragment"
    }
   },
   "outputs": [],
   "source": [
    "party.append( {'name': 'Mickey',\n",
    "               'class': 'Druid/Gunslinger/Paladin/Illusionist/Assassin',\n",
    "               'level': 87,\n",
    "               'psionic level': 19} )"
   ]
  },
  {
   "cell_type": "markdown",
   "metadata": {
    "slideshow": {
     "slide_type": "fragment"
    }
   },
   "source": [
    "Schema enforcement: kwalify, marshmallow, ..."
   ]
  },
  {
   "cell_type": "markdown",
   "metadata": {
    "slideshow": {
     "slide_type": "slide"
    }
   },
   "source": [
    "# Scaling\n",
    "\n",
    "* Multiple access\n",
    "\n",
    "## Document databases\n",
    "\n",
    "* Mongo\n",
    "* "
   ]
  },
  {
   "cell_type": "code",
   "execution_count": 28,
   "metadata": {
    "collapsed": false,
    "slideshow": {
     "slide_type": "notes"
    }
   },
   "outputs": [
    {
     "name": "stdout",
     "output_type": "stream",
     "text": [
      "MongoDB shell version: 2.6.3\n",
      "connecting to: test\n",
      "true\n",
      "bye\n"
     ]
    }
   ],
   "source": [
    "!echo \"db.party.drop()\" | mongo"
   ]
  },
  {
   "cell_type": "code",
   "execution_count": 29,
   "metadata": {
    "collapsed": false,
    "slideshow": {
     "slide_type": "slide"
    }
   },
   "outputs": [
    {
     "name": "stdout",
     "output_type": "stream",
     "text": [
      "connected to: 127.0.0.1\r\n",
      "2015-09-25T19:23:17.661-0400 imported 4 objects\r\n"
     ]
    }
   ],
   "source": [
    "!mongoimport --collection party --jsonArray party.json"
   ]
  },
  {
   "cell_type": "code",
   "execution_count": 30,
   "metadata": {
    "collapsed": false,
    "slideshow": {
     "slide_type": "fragment"
    }
   },
   "outputs": [
    {
     "name": "stdout",
     "output_type": "stream",
     "text": [
      "MongoDB shell version: 2.6.3\n",
      "connecting to: test\n",
      "{ \"_id\" : ObjectId(\"5605d765636c85fac5768a6f\"), \"class\" : \"Thief\", \"role\" : \"Runaway Thrall\", \"level\" : 3, \"equipment\" : { \"torches\" : { \"quantity\" : 3, \"materials\" : [ \"wood\" ], \"weight each\" : 2, \"magic\" : \"\", \"notes\" : \"\", \"cost\" : 2 }, \"cudgel\" : { \"quantity\" : 1, \"materials\" : [ \"wood\" ], \"weight each\" : 3, \"magic\" : \"\", \"notes\" : \"\", \"cost\" : 3, \"damage\" : \"d6\" }, \"cookpot\" : { \"quantity\" : 1, \"materials\" : [ \"iron\" ], \"weight each\" : 10, \"magic\" : \"\", \"notes\" : \"\", \"cost\" : 10 }, \"dagger\" : { \"quantity\" : 1, \"materials\" : [ \"iron\" ], \"weight each\" : 1, \"magic\" : \"\", \"notes\" : \"\", \"cost\" : 1, \"damage\" : \"d4\" } }, \"name\" : \"Wigstan\", \"stats\" : { \"dexterity\" : 15, \"charisma\" : 10, \"strength\" : 14, \"wisdom\" : 9, \"intelligence\" : 12, \"constitution\" : 14 } }\n",
      "{ \"_id\" : ObjectId(\"5605d765636c85fac5768a70\"), \"class\" : \"Fighter\", \"role\" : \"Thane\", \"level\" : 5, \"equipment\" : { \"bow\" : { \"quantity\" : 1, \"materials\" : [ \"wood\" ], \"weight each\" : 2, \"magic\" : \"\", \"notes\" : \"\", \"cost\" : 2, \"damage\" : \"d6\" }, \"Tent\" : { \"quantity\" : 1, \"materials\" : [ \"cloth\" ], \"weight each\" : 15, \"magic\" : \"\", \"notes\" : \"sleeps 4\", \"cost\" : 15 }, \"shield\" : { \"quantity\" : 1, \"materials\" : [ \"wood\", \"cloth\" ], \"weight each\" : 10, \"magic\" : \"\", \"notes\" : \"\", \"cost\" : 10 }, \"arrows\" : { \"quantity\" : 12, \"materials\" : [ \"wood\", \"iron\" ], \"weight each\" : 0.1, \"magic\" : \"\", \"notes\" : \"\", \"cost\" : 0.1 } }, \"name\" : \"Aelfryth\", \"stats\" : { \"dexterity\" : 15, \"charisma\" : 14, \"strength\" : 16, \"wisdom\" : 14, \"intelligence\" : 11, \"constitution\" : 15 } }\n",
      "{ \"_id\" : ObjectId(\"5605d765636c85fac5768a71\"), \"class\" : \"Sourceror\", \"role\" : \"Enigma\", \"level\" : 5, \"equipment\" : { \"Unfailing Flint\" : { \"quantity\" : 1, \"materials\" : [ \"stone\" ], \"weight each\" : 0.1, \"magic\" : \"Y\", \"notes\" : \"Immediately ignites in any weather\", \"cost\" : 0.1 }, \"lamp\" : { \"quantity\" : 1, \"materials\" : [ \"clay\" ], \"weight each\" : 0.2, \"magic\" : \"\", \"notes\" : \"\", \"cost\" : 0.2 }, \"Oil of Revelation\" : { \"quantity\" : 1, \"materials\" : [ \"oil\", \"spices\" ], \"weight each\" : 1, \"magic\" : \"Y\", \"notes\" : \"Burned in any lamp, its light reveals all illusions, disguises, invisible\", \"cost\" : 1 } }, \"name\" : \"Leofflaed\", \"stats\" : { \"dexterity\" : 14, \"charisma\" : 11, \"strength\" : 8, \"wisdom\" : 11, \"intelligence\" : 17, \"constitution\" : 12 } }\n",
      "{ \"_id\" : ObjectId(\"5605d765636c85fac5768a72\"), \"class\" : \"Fighter\", \"role\" : \"Warband Member\", \"level\" : 4, \"equipment\" : { \"torches\" : { \"quantity\" : 6, \"materials\" : [ \"wood\" ], \"weight each\" : 2, \"magic\" : \"\", \"notes\" : \"\", \"cost\" : 2 }, \"30’ rope\" : { \"quantity\" : 1, \"materials\" : [ \"hemp\" ], \"weight each\" : 10, \"magic\" : \"\", \"notes\" : \"\", \"cost\" : 10 }, \"battleaxe\" : { \"quantity\" : 1, \"materials\" : [ \"wood\", \"iron\" ], \"weight each\" : 7, \"magic\" : \"+1\", \"notes\" : \"\", \"cost\" : 7, \"damage\" : \"d8\" } }, \"name\" : \"Godric\", \"stats\" : { \"dexterity\" : 11, \"charisma\" : 12, \"strength\" : 17, \"wisdom\" : 7, \"intelligence\" : 9, \"constitution\" : 16 } }\n",
      "bye\n"
     ]
    }
   ],
   "source": [
    "!echo \"db.party.find()\" | mongo"
   ]
  },
  {
   "cell_type": "markdown",
   "metadata": {
    "slideshow": {
     "slide_type": "slide"
    }
   },
   "source": [
    "How much weight are the party's fighters carrying?"
   ]
  },
  {
   "cell_type": "code",
   "execution_count": 31,
   "metadata": {
    "collapsed": false,
    "slideshow": {
     "slide_type": "fragment"
    }
   },
   "outputs": [
    {
     "name": "stdout",
     "output_type": "stream",
     "text": [
      "MongoDB shell version: 2.6.3\n",
      "connecting to: test\n",
      "{ \"equipment\" : { \"bow\" : { \"quantity\" : 1, \"materials\" : [ \"wood\" ], \"weight each\" : 2, \"magic\" : \"\", \"notes\" : \"\", \"cost\" : 2, \"damage\" : \"d6\" }, \"Tent\" : { \"quantity\" : 1, \"materials\" : [ \"cloth\" ], \"weight each\" : 15, \"magic\" : \"\", \"notes\" : \"sleeps 4\", \"cost\" : 15 }, \"shield\" : { \"quantity\" : 1, \"materials\" : [ \"wood\", \"cloth\" ], \"weight each\" : 10, \"magic\" : \"\", \"notes\" : \"\", \"cost\" : 10 }, \"arrows\" : { \"quantity\" : 12, \"materials\" : [ \"wood\", \"iron\" ], \"weight each\" : 0.1, \"magic\" : \"\", \"notes\" : \"\", \"cost\" : 0.1 } } }\n",
      "{ \"equipment\" : { \"torches\" : { \"quantity\" : 6, \"materials\" : [ \"wood\" ], \"weight each\" : 2, \"magic\" : \"\", \"notes\" : \"\", \"cost\" : 2 }, \"30’ rope\" : { \"quantity\" : 1, \"materials\" : [ \"hemp\" ], \"weight each\" : 10, \"magic\" : \"\", \"notes\" : \"\", \"cost\" : 10 }, \"battleaxe\" : { \"quantity\" : 1, \"materials\" : [ \"wood\", \"iron\" ], \"weight each\" : 7, \"magic\" : \"+1\", \"notes\" : \"\", \"cost\" : 7, \"damage\" : \"d8\" } } }\n",
      "bye\n"
     ]
    }
   ],
   "source": [
    "!echo \"db.party.find({class: 'Fighter'}, {'equipment': 1, _id: 0})\" | mongo"
   ]
  },
  {
   "cell_type": "code",
   "execution_count": 32,
   "metadata": {
    "collapsed": false,
    "slideshow": {
     "slide_type": "fragment"
    }
   },
   "outputs": [
    {
     "ename": "SyntaxError",
     "evalue": "invalid syntax (<ipython-input-32-ddb456e8d93c>, line 1)",
     "output_type": "error",
     "traceback": [
      "\u001b[0;36m  File \u001b[0;32m\"<ipython-input-32-ddb456e8d93c>\"\u001b[0;36m, line \u001b[0;32m1\u001b[0m\n\u001b[0;31m    TODO: finish MongoDB query\u001b[0m\n\u001b[0m        ^\u001b[0m\n\u001b[0;31mSyntaxError\u001b[0m\u001b[0;31m:\u001b[0m invalid syntax\n"
     ]
    }
   ],
   "source": [
    "TODO: finish MongoDB query"
   ]
  },
  {
   "cell_type": "markdown",
   "metadata": {
    "slideshow": {
     "slide_type": "slide"
    }
   },
   "source": [
    "# RDBMS\n",
    "\n",
    "Relational DataBase Management System\n",
    "\n",
    "* PostgreSQL\n",
    "* SQLite"
   ]
  },
  {
   "cell_type": "markdown",
   "metadata": {
    "slideshow": {
     "slide_type": "slide"
    }
   },
   "source": [
    "# RDBMS provides\n",
    "\n",
    "* scale\n",
    "* data consistency\n",
    "* query language: SQL\n",
    "* tools\n"
   ]
  },
  {
   "cell_type": "markdown",
   "metadata": {
    "slideshow": {
     "slide_type": "slide"
    }
   },
   "source": [
    "# DDL\n",
    "\n",
    "Data Definition Language\n",
    "\n",
    "![AD&D Players' Handbook](https://upload.wikimedia.org/wikipedia/en/0/09/PlayersHandbook8Cover.jpg)"
   ]
  },
  {
   "cell_type": "markdown",
   "metadata": {
    "slideshow": {
     "slide_type": "slide"
    }
   },
   "source": [
    "Create a database and connect to it\n",
    "\n",
    "    $ psql -h 127.0.0.1 template1 dungeonmaster\n",
    "    Password for user dungeonmaster: \n",
    "    psql (9.4.1)\n",
    "    Type \"help\" for help.\n",
    "\n",
    "    template1=# create database dnd;\n",
    "    CREATE DATABASE\n",
    "    template1=# \\c dnd\n",
    "    You are now connected to database \"dnd\" as user \"dungeonmaster\".\n"
   ]
  },
  {
   "cell_type": "code",
   "execution_count": 33,
   "metadata": {
    "collapsed": false,
    "slideshow": {
     "slide_type": "slide"
    }
   },
   "outputs": [
    {
     "name": "stdout",
     "output_type": "stream",
     "text": [
      "  CREATE TABLE character (\r\n",
      "    name TEXT,\r\n",
      "    class TEXT,\r\n",
      "    role TEXT,\r\n",
      "    level INTEGER,\r\n",
      "    strength INTEGER,\r\n",
      "    intelligence INTEGER,\r\n",
      "    wisdom INTEGER,\r\n",
      "    dexterity INTEGER,\r\n",
      "    constitution INTEGER,\r\n",
      "    charisma INTEGER );\r\n"
     ]
    }
   ],
   "source": [
    "!cat sql/ddl/create_char_tbl.sql"
   ]
  },
  {
   "cell_type": "markdown",
   "metadata": {
    "slideshow": {
     "slide_type": "fragment"
    }
   },
   "source": [
    "    dnd=# \\i sql/ddl/create_char_tbl.sql \n",
    "    CREATE TABLE"
   ]
  },
  {
   "cell_type": "markdown",
   "metadata": {
    "collapsed": false,
    "slideshow": {
     "slide_type": "slide"
    }
   },
   "source": [
    "# DML\n",
    "\n",
    "Data Manipulation Language"
   ]
  },
  {
   "cell_type": "code",
   "execution_count": 34,
   "metadata": {
    "collapsed": false,
    "slideshow": {
     "slide_type": "slide"
    }
   },
   "outputs": [
    {
     "name": "stdout",
     "output_type": "stream",
     "text": [
      "INSERT INTO character (\r\n",
      "  name, class, role, level,\r\n",
      "  strength, intelligence, wisdom, dexterity,\r\n",
      "  constitution, charisma)\r\n",
      "VALUES (\r\n",
      "  'Aelfryth', 'Fighter', 'Thane', 5,\r\n",
      "  16, 11, 14, 15,\r\n",
      "  15, 14);\r\n"
     ]
    }
   ],
   "source": [
    "!cat sql/dml/ins_single_char.sql"
   ]
  },
  {
   "cell_type": "markdown",
   "metadata": {
    "slideshow": {
     "slide_type": "fragment"
    }
   },
   "source": [
    "    dnd=# \\i sql/dml/ins_single_char.sql\n",
    "    INSERT 0 1"
   ]
  },
  {
   "cell_type": "markdown",
   "metadata": {
    "collapsed": true,
    "slideshow": {
     "slide_type": "slide"
    }
   },
   "source": [
    "# SELECT\n",
    "\n",
    "    dnd=# SELECT * FROM character;\n",
    "       name   |  class  | role  | level | strength | intelligence | wisdom | dexterity | constitution | charisma \n",
    "    ----------+---------+-------+-------+----------+--------------+--------+-----------+--------------+----------\n",
    "     Aelfryth | Fighter | Thane |     5 |       16 |           11 |     14 |        15 |           15 |       14\n",
    "    (1 row)"
   ]
  },
  {
   "cell_type": "markdown",
   "metadata": {
    "slideshow": {
     "slide_type": "slide"
    }
   },
   "source": [
    "# Mass insert\n",
    "\n",
    "    dnd=# DELETE FROM character;\n",
    "    DELETE 4\n",
    "    dnd=# \\copy character FROM 'party.multisheet/stats-Table 1.csv' WITH csv HEADER;\n",
    "    COPY 4"
   ]
  },
  {
   "cell_type": "markdown",
   "metadata": {
    "slideshow": {
     "slide_type": "slide"
    }
   },
   "source": [
    "# Selective SELECT\n",
    "\n",
    "    dnd=# SELECT name, class, role FROM character;\n",
    "       name    |   class   |      role      \n",
    "    -----------+-----------+----------------\n",
    "     Aelfryth  | Fighter   | Thane\n",
    "     Godric    | Fighter   | Warband Member\n",
    "     Leofflaed | Sourceror | Enigma\n",
    "     Wigstan   | Thief     | Runaway Thrall\n",
    "    (4 rows)"
   ]
  },
  {
   "cell_type": "markdown",
   "metadata": {
    "slideshow": {
     "slide_type": "slide"
    }
   },
   "source": [
    "# WHERE\n",
    "\n",
    "    dnd=# SELECT name, class, role \n",
    "    dnd-# FROM   character\n",
    "    dnd-# WHERE  class = 'Fighter';\n",
    "       name   |  class  |      role      \n",
    "    ----------+---------+----------------\n",
    "     Aelfryth | Fighter | Thane\n",
    "     Godric   | Fighter | Warband Member\n",
    "    (2 rows)"
   ]
  },
  {
   "cell_type": "markdown",
   "metadata": {
    "slideshow": {
     "slide_type": "slide"
    }
   },
   "source": [
    "# AND\n",
    "\n",
    "    dnd=# SELECT name, class, role, intelligence\n",
    "    dnd-# FROM   character\n",
    "    dnd-# WHERE  class = 'Fighter'\n",
    "    dnd-# AND    intelligence > 10;\n",
    "       name   |  class  | role  | intelligence \n",
    "    ----------+---------+-------+--------------\n",
    "     Aelfryth | Fighter | Thane |           11\n",
    "    (1 row)"
   ]
  },
  {
   "cell_type": "markdown",
   "metadata": {
    "slideshow": {
     "slide_type": "slide"
    }
   },
   "source": [
    "# Level up\n",
    "\n",
    "    dnd=# SELECT name, level FROM character;\n",
    "       name    | level \n",
    "    -----------+-------\n",
    "     Aelfryth  |     5\n",
    "     Godric    |     4\n",
    "     Leofflaed |     5\n",
    "     Wigstan   |     3\n",
    "    (4 rows)\n",
    "\n"
   ]
  },
  {
   "cell_type": "markdown",
   "metadata": {
    "slideshow": {
     "slide_type": "slide"
    }
   },
   "source": [
    "# UPDATE\n",
    "\n",
    "    dnd=# UPDATE character\n",
    "    dnd-# SET    level = 4\n",
    "    dnd-# WHERE  name = 'Wigstan';\n",
    "    UPDATE 1\n",
    "\n",
    "    dnd=# SELECT name, level FROM character;                                                                               \n",
    "     name      | level \n",
    "    -----------+-------\n",
    "     Aelfryth  |     5\n",
    "     Godric    |     4\n",
    "     Leofflaed |     5\n",
    "     Wigstan   |     4\n",
    "    (4 rows)\n"
   ]
  },
  {
   "cell_type": "markdown",
   "metadata": {
    "slideshow": {
     "slide_type": "slide"
    }
   },
   "source": [
    "# Unique identifiers"
   ]
  },
  {
   "cell_type": "code",
   "execution_count": null,
   "metadata": {
    "collapsed": false,
    "slideshow": {
     "slide_type": "fragment"
    }
   },
   "outputs": [],
   "source": [
    "!cat sql/dml/wigmund.sql"
   ]
  },
  {
   "cell_type": "markdown",
   "metadata": {
    "slideshow": {
     "slide_type": "slide"
    }
   },
   "source": [
    "    dnd=# SELECT name, class, level FROM character WHERE class = 'Thief';\n",
    "      name   | class | level \n",
    "    ---------+-------+-------\n",
    "     Wigstan | Thief |     4\n",
    "     Wigmund | Thief |     4\n",
    "    (2 rows)\n"
   ]
  },
  {
   "cell_type": "markdown",
   "metadata": {
    "slideshow": {
     "slide_type": "slide"
    }
   },
   "source": [
    "# Oops\n",
    "\n",
    "    dnd=# UPDATE character SET level = level + 1 WHERE class = 'Thief';\n",
    "    UPDATE 2\n",
    "    dnd=# SELECT name, class, level FROM character WHERE class = 'Thief';\n",
    "      name   | class | level \n",
    "    ---------+-------+-------\n",
    "     Wigstan | Thief |     5\n",
    "     Wigmund | Thief |     5\n",
    "    (2 rows)"
   ]
  },
  {
   "cell_type": "markdown",
   "metadata": {
    "slideshow": {
     "slide_type": "slide"
    }
   },
   "source": [
    "# Primary Key\n",
    "\n",
    "## numeric\n",
    "\n",
    "    dnd=# ALTER TABLE character ADD\n",
    "    dnd-#   id SERIAL PRIMARY KEY;\n",
    "\n",
    "    dnd=# SELECT id, name, class, role FROM character;\n",
    "     id |   name    |   class   |      role      \n",
    "    ----+-----------+-----------+----------------\n",
    "      1 | Aelfryth  | Fighter   | Thane\n",
    "      2 | Godric    | Fighter   | Warband Member\n",
    "      3 | Leofflaed | Sourceror | Enigma\n",
    "      4 | Wigstan   | Thief     | Runaway Thrall\n",
    "      5 | Wigmund   | Thief     | Runaway Thrall\n",
    "\n",
    "    dnd=# ALTER TABLE character DROP id;\n",
    "    ALTER TABLE"
   ]
  },
  {
   "cell_type": "markdown",
   "metadata": {
    "slideshow": {
     "slide_type": "slide"
    }
   },
   "source": [
    "## Text PK\n",
    "  \n",
    "    dnd=# ALTER TABLE character\n",
    "    dnd-# ADD PRIMARY KEY (name);\n",
    "    ALTER TABLE"
   ]
  },
  {
   "cell_type": "code",
   "execution_count": 46,
   "metadata": {
    "collapsed": false,
    "slideshow": {
     "slide_type": "slide"
    }
   },
   "outputs": [
    {
     "name": "stdout",
     "output_type": "stream",
     "text": [
      "INSERT INTO character (\r\n",
      "  name, class, role, level,\r\n",
      "  strength, intelligence, wisdom, dexterity,\r\n",
      "  constitution, charisma)\r\n",
      "VALUES (\r\n",
      "  'Godric', 'Ranger', 'Guide', 4,\r\n",
      "  14, 15, 13, 15,\r\n",
      "  16, 7);\r\n"
     ]
    }
   ],
   "source": [
    "!cat sql/dml/godric2.sql"
   ]
  },
  {
   "cell_type": "markdown",
   "metadata": {
    "slideshow": {
     "slide_type": "fragment"
    }
   },
   "source": [
    "    dnd=# \\i sql/dml/godric2.sql \n",
    "    psql:sql/dml/godric2.sql:8: ERROR:  duplicate key value violates unique constraint \"character_pkey\"\n",
    "    DETAIL:  Key (name)=(Godric) already exists."
   ]
  },
  {
   "cell_type": "markdown",
   "metadata": {
    "slideshow": {
     "slide_type": "slide"
    }
   },
   "source": [
    "# Relations\n",
    "\n"
   ]
  },
  {
   "cell_type": "code",
   "execution_count": null,
   "metadata": {
    "collapsed": false,
    "slideshow": {
     "slide_type": "fragment"
    }
   },
   "outputs": [],
   "source": [
    "!cat sql/ddl/create_equip_tbl.sql"
   ]
  },
  {
   "cell_type": "markdown",
   "metadata": {
    "slideshow": {
     "slide_type": "fragment"
    }
   },
   "source": [
    "    dnd=# \\i sql/ddl/create_equip_tbl.sql \n",
    "    CREATE TABLE\n",
    "    dnd=# \\copy equipment FROM 'party.multisheet/equipment-Table 1.csv' WITH csv HEADER\n",
    "    COPY 14"
   ]
  },
  {
   "cell_type": "markdown",
   "metadata": {
    "slideshow": {
     "slide_type": "slide"
    }
   },
   "source": [
    "# Join"
   ]
  },
  {
   "cell_type": "markdown",
   "metadata": {
    "slideshow": {
     "slide_type": "fragment"
    }
   },
   "source": [
    "All Leofflaed's gear\n",
    "\n",
    "    dnd=# SELECT c.name, e.name, e.magic\n",
    "    FROM   character c\n",
    "    JOIN   equipment e ON (e.owner = c.name)\n",
    "    WHERE  c.name = 'Leofflaed';\n",
    "    \n",
    "       name    |       name        | magic \n",
    "    -----------+-------------------+-------\n",
    "     Leofflaed | Oil of Revelation | Y\n",
    "     Leofflaed | Unfailing Flint   | Y\n",
    "     Leofflaed | lamp              | "
   ]
  },
  {
   "cell_type": "markdown",
   "metadata": {
    "slideshow": {
     "slide_type": "slide"
    }
   },
   "source": [
    "Weight of all fighters' gear\n",
    "\n",
    "    dnd=# SELECT SUM(quantity * weight_each)\n",
    "    dnd-# FROM   equipment e\n",
    "    dnd-# JOIN   character c ON (e.owner = c.name)\n",
    "    dnd-# WHERE  class = 'Fighter';\n",
    "     sum  \n",
    "    ------\n",
    "     57.2\n",
    "    (1 row)"
   ]
  },
  {
   "cell_type": "markdown",
   "metadata": {
    "slideshow": {
     "slide_type": "slide"
    }
   },
   "source": [
    "# Constraints\n",
    "\n",
    "![Chess players](img/chess.jpg)"
   ]
  },
  {
   "cell_type": "code",
   "execution_count": 37,
   "metadata": {
    "collapsed": false,
    "slideshow": {
     "slide_type": "slide"
    }
   },
   "outputs": [
    {
     "name": "stdout",
     "output_type": "stream",
     "text": [
      "INSERT INTO character (\r\n",
      "  name, class, role, level,\r\n",
      "  psionic_level,\r\n",
      "  strength, intelligence, wisdom, dexterity,\r\n",
      "  constitution, charisma)\r\n",
      "VALUES (\r\n",
      "  'Mickey', 'Druid/Gunslinger/Paladin/Illusionist/Assassin', 'Demigod', 87,\r\n",
      "  19,\r\n",
      "  19, 19, 18, 18,\r\n",
      "  19, 17);\r\n"
     ]
    }
   ],
   "source": [
    "!cat sql/dml/mickey.sql"
   ]
  },
  {
   "cell_type": "markdown",
   "metadata": {
    "slideshow": {
     "slide_type": "fragment"
    }
   },
   "source": [
    "\n",
    "    ERROR:  column \"psionic_level\" of relation \"character\" does not exist\n",
    "    LINE 3:   psionic_level,"
   ]
  },
  {
   "cell_type": "markdown",
   "metadata": {
    "slideshow": {
     "slide_type": "slide"
    }
   },
   "source": [
    "# Column constraints\n",
    "\n",
    "      CREATE TABLE character (\n",
    "        name TEXT,\n",
    "        class VARCHAR(14),\n",
    "        ...\n",
    "\n",
    "    dnd=# ALTER TABLE character ALTER COLUMN class TYPE VARCHAR(14);\n",
    "    \n",
    "    INSERT INTO character (\n",
    "    ...\n",
    "\n",
    "    ERROR:  value too long for type character varying(14)"
   ]
  },
  {
   "cell_type": "markdown",
   "metadata": {
    "slideshow": {
     "slide_type": "slide"
    }
   },
   "source": [
    "# Foreign key constraints"
   ]
  },
  {
   "cell_type": "markdown",
   "metadata": {
    "slideshow": {
     "slide_type": "slide"
    }
   },
   "source": [
    "# Check constraints\n",
    "\n",
    "      CREATE TABLE character (\n",
    "        ...\n",
    "        level INTEGER,\n",
    "        ...\n",
    "        \n",
    "      dnd=# ALTER TABLE character ADD CONSTRAINT reaonable_level CHECK (level < 15);\n",
    "\n",
    "    ERROR:  new row for relation \"character\" violates check constraint \"character_level_check\"\n",
    "    DETAIL:  Failing row contains (Mickey, Druid, Demigod, 87, 19, 19, 18, 18, 19, 17).        "
   ]
  },
  {
   "cell_type": "markdown",
   "metadata": {
    "slideshow": {
     "slide_type": "slide"
    }
   },
   "source": [
    "# Transactions\n",
    "\n",
    "![transaction](img/transaction.jpg)"
   ]
  },
  {
   "cell_type": "code",
   "execution_count": 42,
   "metadata": {
    "collapsed": false,
    "slideshow": {
     "slide_type": "slide"
    }
   },
   "outputs": [
    {
     "name": "stdout",
     "output_type": "stream",
     "text": [
      "SELECT name, owner\r\n",
      "FROM   equipment\r\n",
      "WHERE  owner LIKE 'Wig%';\r\n"
     ]
    }
   ],
   "source": [
    "!cat sql/dml/thief_inventories.sql"
   ]
  },
  {
   "cell_type": "code",
   "execution_count": null,
   "metadata": {
    "collapsed": true,
    "slideshow": {
     "slide_type": "fragment"
    }
   },
   "outputs": [],
   "source": [
    "dnd=# \\i sql/dml/thief_inventories.sql\n",
    "  name   |  owner  \n",
    "---------+---------\n",
    " cudgel  | Wigstan\n",
    " cookpot | Wigstan\n",
    " dagger  | Wigstan\n",
    " torches | Wigstan\n",
    "(4 rows)\n"
   ]
  },
  {
   "cell_type": "markdown",
   "metadata": {
    "slideshow": {
     "slide_type": "slide"
    }
   },
   "source": [
    "    dnd=# UPDATE equipment\n",
    "    dnd-# SET    owner = 'Wigmund'\n",
    "    dnd-# WHERE  owner = 'Wigstan'\n",
    "    dnd-# AND    name = 'cudgel';\n",
    "    UPDATE 1\n",
    "    dnd=# \\i sql/dml/thief_inventories.sql \n",
    "      name   |  owner  \n",
    "    ---------+---------\n",
    "     cookpot | Wigstan\n",
    "     dagger  | Wigstan\n",
    "     torches | Wigstan\n",
    "     cudgel  | Wigmund\n",
    "    (4 rows)"
   ]
  },
  {
   "cell_type": "markdown",
   "metadata": {
    "slideshow": {
     "slide_type": "slide"
    }
   },
   "source": [
    "    dnd=# BEGIN TRANSACTION;\n",
    "    BEGIN\n",
    "    dnd=# UPDATE equipment\n",
    "    dnd-# SET    owner = 'Wigmund'\n",
    "    dnd-# WHERE  owner = 'Wigstan'\n",
    "    dnd-# AND    name = 'dagger';\n",
    "    UPDATE 1\n",
    "    dnd=# SELECT name, owner\n",
    "    dnd-# FROM   equipment\n",
    "    dnd-# WHERE  owner LIKE 'Wig%';\n",
    "      name   |  owner  \n",
    "    ---------+---------\n",
    "     cookpot | Wigstan\n",
    "     torches | Wigstan\n",
    "     cudgel  | Wigmund\n",
    "     dagger  | Wigmund\n",
    "    (4 rows)\n"
   ]
  },
  {
   "cell_type": "markdown",
   "metadata": {
    "slideshow": {
     "slide_type": "slide"
    }
   },
   "source": [
    "    dnd=# ROLLBACK;\n",
    "    ROLLBACK\n",
    "    dnd=# SELECT name, owner\n",
    "    dnd-# FROM   equipment\n",
    "    dnd-# WHERE  owner LIKE 'Wig%';\n",
    "      name   |  owner  \n",
    "    ---------+---------\n",
    "     cookpot | Wigstan\n",
    "     torches | Wigstan\n",
    "     dagger  | Wigstan\n",
    "     cudgel  | Wigmund\n",
    "    (4 rows)\n",
    "    \n",
    "opposite is `COMMIT`"
   ]
  },
  {
   "cell_type": "markdown",
   "metadata": {
    "slideshow": {
     "slide_type": "slide"
    }
   },
   "source": [
    "    dnd=# update equipment set owner = 'Wigstan' WHERE owner = 'Wigmund';\n",
    "    UPDATE 0\n",
    "    dnd=# "
   ]
  },
  {
   "cell_type": "markdown",
   "metadata": {
    "slideshow": {
     "slide_type": "slide"
    }
   },
   "source": [
    "# Aggregate functions\n",
    "\n",
    "    dnd=# SELECT MAX(charisma) FROM character;\n",
    "     max \n",
    "    -----\n",
    "      14\n",
    "    (1 row)\n",
    "    \n",
    "Think line count\n",
    "\n",
    "    dnd=# SELECT name, MAX(charisma) FROM character;\n",
    "    ERROR:  column \"character.name\" must appear in the GROUP BY clause or be used in an aggregate function\n",
    "    LINE 1: SELECT name, MAX(charisma) FROM character;"
   ]
  },
  {
   "cell_type": "markdown",
   "metadata": {
    "slideshow": {
     "slide_type": "slide"
    }
   },
   "source": [
    "## Subquery\n",
    "\n",
    "    dnd=# SELECT name, charisma\n",
    "    dnd-# FROM   character\n",
    "    dnd-# WHERE  charisma = (SELECT MAX(charisma) FROM character);\n",
    "       name   | charisma \n",
    "    ----------+----------\n",
    "     Aelfryth |       14\n",
    "    (1 row)\n"
   ]
  },
  {
   "cell_type": "markdown",
   "metadata": {
    "slideshow": {
     "slide_type": "slide"
    }
   },
   "source": [
    "## GROUP BY\n",
    "\n",
    "    dnd=# SELECT owner, SUM(cost) \n",
    "    dnd-# FROM   equipment\n",
    "    dnd-# GROUP BY owner\n",
    "    dnd-# ORDER BY SUM(cost) DESC;\n",
    "       owner   |  sum   \n",
    "    -----------+--------\n",
    "     Leofflaed | 550.50\n",
    "     Aelfryth  |  41.10\n",
    "     Godric    |   5.12\n",
    "     Wigstan   |   2.42\n",
    "    (4 rows)\n"
   ]
  },
  {
   "cell_type": "markdown",
   "metadata": {
    "slideshow": {
     "slide_type": "slide"
    }
   },
   "source": [
    "## Outer joins\n",
    "\n",
    "    dnd=# SELECT c.name, c.class, SUM(e.cost)\n",
    "    dnd-# FROM   character c\n",
    "    dnd-# JOIN   equipment e ON (e.owner = c.name)\n",
    "    dnd-# GROUP BY c.name, c.class\n",
    "    dnd-# ORDER BY SUM(e.cost) DESC;\n",
    "       name    |   class   |  sum   \n",
    "    -----------+-----------+--------\n",
    "     Leofflaed | Sourceror | 550.50\n",
    "     Aelfryth  | Fighter   |  41.10\n",
    "     Godric    | Fighter   |   5.12\n",
    "     Wigstan   | Thief     |   2.42\n",
    "    (4 rows)\n"
   ]
  },
  {
   "cell_type": "markdown",
   "metadata": {
    "slideshow": {
     "slide_type": "slide"
    }
   },
   "source": [
    "    dnd=# SELECT c.name, c.class, SUM(e.cost)\n",
    "    FROM   character c\n",
    "    LEFT OUTER JOIN equipment e ON (e.owner = c.name)\n",
    "    GROUP BY c.name, c.class\n",
    "    ORDER BY SUM(e.cost) DESC;\n",
    "       name    |   class   |  sum   \n",
    "    -----------+-----------+--------\n",
    "     Wigmund   | Thief     |       \n",
    "     Leofflaed | Sourceror | 550.50\n",
    "     Aelfryth  | Fighter   |  41.10\n",
    "     Godric    | Fighter   |   5.12\n",
    "     Wigstan   | Thief     |   2.42\n",
    "    (5 rows)\n",
    "    \n",
    "... optionally, `NULLS LAST`\n"
   ]
  },
  {
   "cell_type": "markdown",
   "metadata": {},
   "source": [
    "# Traps\n",
    "\n",
    "![trap book](img/grimtooth.jpg)"
   ]
  },
  {
   "cell_type": "markdown",
   "metadata": {
    "slideshow": {
     "slide_type": "slide"
    }
   },
   "source": [
    "# The NULL trap (3-value logic)\n",
    "\n",
    "\n",
    "    dnd=# SELECT name, magic \n",
    "    dnd-# FROM   equipment\n",
    "    dnd-# WHERE  magic IS NOT NULL;\n",
    "           name        | magic \n",
    "    -------------------+-------\n",
    "     battleaxe         | +1\n",
    "     Oil of Revelation | Y\n",
    "     Unfailing Flint   | Y\n",
    "    (3 rows)\n",
    "\n",
    "    dnd=# SELECT name, magic\n",
    "    dnd-# FROM   equipment\n",
    "    dnd-# WHERE  magic = NULL;\n",
    "     name | magic \n",
    "    ------+-------\n",
    "    (0 rows)\n"
   ]
  },
  {
   "cell_type": "markdown",
   "metadata": {
    "slideshow": {
     "slide_type": "slide"
    }
   },
   "source": [
    "    dnd=# SELECT 1 = 1;\n",
    "     ?column? \n",
    "    ----------\n",
    "     t\n",
    "    (1 row)\n",
    "\n",
    "    dnd=# SELECT 1 = 2;\n",
    "     ?column? \n",
    "    ----------\n",
    "     f\n",
    "    (1 row)\n",
    "\n",
    "    dnd=# SELECT NULL = NULL;\n",
    "     ?column? \n",
    "    ----------\n",
    "\n",
    "    (1 row)\n",
    "\n",
    "    dnd=# SELECT NULL != NULL;\n",
    "     ?column? \n",
    "    ----------\n",
    "\n",
    "    (1 row)"
   ]
  },
  {
   "cell_type": "markdown",
   "metadata": {
    "slideshow": {
     "slide_type": "slide"
    }
   },
   "source": [
    "    dnd=# SELECT c.name\n",
    "    dnd-# FROM   character c\n",
    "    dnd-# JOIN   equipment e ON (e.owner = c.name)\n",
    "    dnd-# AND    e.magic != NULL;\n",
    "     name \n",
    "    ------\n",
    "    (0 rows)\n",
    "    \n",
    "    dnd=# SELECT c.name AS owner, e.name                                                           dnd=# FROM   character c                                                                       dnd=# JOIN   equipment e ON (c.name = e.owner)                                                 dnd=# WHERE  magic IS NULL;\n",
    "       owner   |   name   \n",
    "    -----------+----------\n",
    "     Aelfryth  | shield\n",
    "     Aelfryth  | Tent\n",
    "     Aelfryth  | bow\n",
    "     Aelfryth  | arrows\n",
    "     Godric    | 30’ rope\n",
    "     Godric    | torches\n",
    "     Leofflaed | lamp\n",
    "     Wigstan   | cookpot\n",
    "     Wigstan   | torches\n",
    "     Wigstan   | dagger\n",
    "     Wigmund   | cudgel\n",
    "    (11 rows)\n"
   ]
  },
  {
   "cell_type": "markdown",
   "metadata": {
    "slideshow": {
     "slide_type": "slide"
    }
   },
   "source": [
    "## Missing WHERE trap"
   ]
  },
  {
   "cell_type": "markdown",
   "metadata": {
    "slideshow": {
     "slide_type": "slide"
    }
   },
   "source": [
    "    dnd=# SELECT name, level\n",
    "    dnd-# FROM   character;\n",
    "       name    | level \n",
    "    -----------+-------\n",
    "     Aelfryth  |     5\n",
    "     Godric    |     4\n",
    "     Leofflaed |     5\n",
    "     Wigstan   |     5\n",
    "     Wigmund   |     5\n",
    "    (5 rows)\n",
    "\n",
    "    dnd=# UPDATE character\n",
    "    dnd-# SET    level = 6;\n",
    "    UPDATE 5\n",
    "    dnd=# SELECT name, level\n",
    "    dnd-# FROM   character;\n",
    "       name    | level \n",
    "    -----------+-------\n",
    "     Aelfryth  |     6\n",
    "     Godric    |     6\n",
    "     Leofflaed |     6\n",
    "     Wigstan   |     6\n",
    "     Wigmund   |     6\n",
    "    (5 rows)\n"
   ]
  },
  {
   "cell_type": "markdown",
   "metadata": {
    "slideshow": {
     "slide_type": "slide"
    }
   },
   "source": [
    "## Unqualified `DELETE` = apocalypse\n",
    "\n",
    "    dnd=# BEGIN TRANSACTION;\n",
    "    BEGIN\n",
    "    dnd=# DELETE FROM equipment;\n",
    "    DELETE 14\n",
    "    dnd=# SELECT * FROM equipment;\n",
    "     name | quantity | weight_each | cost | magic | materials | notes | owner | damage \n",
    "    ------+----------+-------------+------+-------+-----------+-------+-------+--------\n",
    "    (0 rows)\n",
    "\n",
    "    dnd=# ROLLBACK;\n",
    "    ROLLBACK"
   ]
  },
  {
   "cell_type": "markdown",
   "metadata": {
    "slideshow": {
     "slide_type": "slide"
    }
   },
   "source": [
    "# Tools\n",
    "\n",
    "* [GUIs](https://wiki.postgresql.org/wiki/Community_Guide_to_PostgreSQL_GUI_Tools)\n",
    "\n",
    "* [Web interfaces](http://www.postgresqlstudio.org/)\n",
    "\n",
    "* Automatic APIs: [HTSQL](http://htsql.org/), [Postgrest](https://github.com/begriffs/postgrest)..."
   ]
  },
  {
   "cell_type": "markdown",
   "metadata": {
    "slideshow": {
     "slide_type": "slide"
    }
   },
   "source": [
    "# Triggers\n",
    "\n",
    "![woman with crossbow](img/crossbow2.jpg)"
   ]
  },
  {
   "cell_type": "markdown",
   "metadata": {
    "slideshow": {
     "slide_type": "slide"
    }
   },
   "source": [
    "# Take 500 XP\n",
    "\n",
    "Questions?\n",
    "\n",
    "catherinedevlin.blogspot.com\n",
    "[github.com/catherinedevlin/sql_quest](https://github.com/catherinedevlin/sql_quest)\n",
    "\n",
    "Images (except book covers) from [British Library's public release](https://www.flickr.com/photos/britishlibrary)"
   ]
  },
  {
   "cell_type": "code",
   "execution_count": null,
   "metadata": {
    "collapsed": true
   },
   "outputs": [],
   "source": []
  }
 ],
 "metadata": {
  "celltoolbar": "Slideshow",
  "kernelspec": {
   "display_name": "Python 3",
   "language": "python",
   "name": "python3"
  },
  "language_info": {
   "codemirror_mode": {
    "name": "ipython",
    "version": 3
   },
   "file_extension": ".py",
   "mimetype": "text/x-python",
   "name": "python",
   "nbconvert_exporter": "python",
   "pygments_lexer": "ipython3",
   "version": "3.4.1"
  }
 },
 "nbformat": 4,
 "nbformat_minor": 0
}
