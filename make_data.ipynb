{
 "cells": [
  {
   "cell_type": "code",
   "execution_count": 1,
   "metadata": {
    "collapsed": false
   },
   "outputs": [],
   "source": [
    "import csv\n",
    "import pprint\n",
    "import json\n",
    "\n",
    "rdr = csv.DictReader(open('party.csv'))\n",
    "\n",
    "party = {}\n",
    "for character in rdr:\n",
    "    party[character['name']] = character"
   ]
  },
  {
   "cell_type": "code",
   "execution_count": 3,
   "metadata": {
    "collapsed": false
   },
   "outputs": [
    {
     "ename": "KeyError",
     "evalue": "'magic item 2'",
     "output_type": "error",
     "traceback": [
      "\u001b[0;31m---------------------------------------------------------------------------\u001b[0m",
      "\u001b[0;31mKeyError\u001b[0m                                  Traceback (most recent call last)",
      "\u001b[0;32m<ipython-input-3-c122fb5830d9>\u001b[0m in \u001b[0;36m<module>\u001b[0;34m()\u001b[0m\n\u001b[1;32m     11\u001b[0m \u001b[0;34m\u001b[0m\u001b[0m\n\u001b[1;32m     12\u001b[0m         party[name]['equipment'].append({\n\u001b[0;32m---> 13\u001b[0;31m             \u001b[0;34m'name'\u001b[0m\u001b[0;34m:\u001b[0m \u001b[0mparty\u001b[0m\u001b[0;34m[\u001b[0m\u001b[0mname\u001b[0m\u001b[0;34m]\u001b[0m\u001b[0;34m[\u001b[0m\u001b[0;34m'magic item %d'\u001b[0m \u001b[0;34m%\u001b[0m \u001b[0;34m(\u001b[0m\u001b[0mi\u001b[0m \u001b[0;34m+\u001b[0m \u001b[0;36m1\u001b[0m\u001b[0;34m)\u001b[0m\u001b[0;34m]\u001b[0m\u001b[0;34m,\u001b[0m\u001b[0;34m\u001b[0m\u001b[0m\n\u001b[0m\u001b[1;32m     14\u001b[0m             \u001b[0;34m'bonus'\u001b[0m\u001b[0;34m:\u001b[0m \u001b[0mparty\u001b[0m\u001b[0;34m[\u001b[0m\u001b[0mname\u001b[0m\u001b[0;34m]\u001b[0m\u001b[0;34m[\u001b[0m\u001b[0;34m'magic item %d bonus'\u001b[0m \u001b[0;34m%\u001b[0m \u001b[0;34m(\u001b[0m\u001b[0mi\u001b[0m \u001b[0;34m+\u001b[0m \u001b[0;36m1\u001b[0m\u001b[0;34m)\u001b[0m\u001b[0;34m]\u001b[0m\u001b[0;34m,\u001b[0m\u001b[0;34m\u001b[0m\u001b[0m\n\u001b[1;32m     15\u001b[0m             \u001b[0;34m'description'\u001b[0m\u001b[0;34m:\u001b[0m \u001b[0mparty\u001b[0m\u001b[0;34m[\u001b[0m\u001b[0mname\u001b[0m\u001b[0;34m]\u001b[0m\u001b[0;34m[\u001b[0m\u001b[0;34m'magic item %d description'\u001b[0m \u001b[0;34m%\u001b[0m \u001b[0;34m(\u001b[0m\u001b[0mi\u001b[0m \u001b[0;34m+\u001b[0m \u001b[0;36m1\u001b[0m\u001b[0;34m)\u001b[0m\u001b[0;34m]\u001b[0m\u001b[0;34m,\u001b[0m\u001b[0;34m\u001b[0m\u001b[0m\n",
      "\u001b[0;31mKeyError\u001b[0m: 'magic item 2'"
     ]
    }
   ],
   "source": [
    "for name in party:\n",
    "    party[name]['level'] = int(party[name]['level'])\n",
    "    party[name]['equipment'] = []\n",
    "    for i in range(1,4):\n",
    "        itm = {}\n",
    "        for field in ('name', 'quantity', 'weight each', 'cost', 'magic',\n",
    "                      'materials', 'notes'):\n",
    "            orig_field = 'equip %d %s' % (i, field)\n",
    "            itm[field] = party[name].pop(orig_field)\n",
    "        party[name]['equipment'].append(itm)\n",
    "            \n",
    "        party[name]['equipment'].append({\n",
    "            'name': party[name]['magic item %d' % (i + 1)],\n",
    "            'bonus': party[name]['magic item %d bonus' % (i + 1)],\n",
    "            'description': party[name]['magic item %d description' % (i + 1)],\n",
    "        })\n",
    "    for i in range(2):\n",
    "        party[name]['weapons'].append({\n",
    "            'name': party[name]['weapon %d name' % (i + 1)],\n",
    "            'damage': party[name]['weapon %d damage' % (i + 1)],\n",
    "            'materials': party[name]['weapon %d materials' % (i + 1)].split(', '),\n",
    "        })\n",
    "    for field in list(party[name].keys()):\n",
    "        try:\n",
    "            party[name][field] = int(party[name][field])\n",
    "        except (TypeError, ValueError):\n",
    "            pass\n",
    "        if field.startswith('weapon ') or field.startswith('magic item '):\n",
    "            party[name].pop(field)"
   ]
  },
  {
   "cell_type": "code",
   "execution_count": 70,
   "metadata": {
    "collapsed": false
   },
   "outputs": [
    {
     "name": "stdout",
     "output_type": "stream",
     "text": [
      "{'Aelfryth': {'charisma': 14,\n",
      "              'class': 'Thane',\n",
      "              'constitution': 15,\n",
      "              'dexterity': 15,\n",
      "              'intelligence': 11,\n",
      "              'level': 5,\n",
      "              'magic items': [{'bonus': '',\n",
      "                               'description': 'Burned in any lamp, its light '\n",
      "                                              'reveals illusions, invisible '\n",
      "                                              'creatures, and disguises',\n",
      "                               'name': 'oil of revelation'},\n",
      "                              {'bonus': '+1',\n",
      "                               'description': '',\n",
      "                               'name': 'bow'}],\n",
      "              'name': 'Aelfryth',\n",
      "              'strength': 16,\n",
      "              'weapons': [{'damage': 'd8',\n",
      "                           'materials': ['iron'],\n",
      "                           'name': 'sword'},\n",
      "                          {'damage': 'd6',\n",
      "                           'materials': ['wood'],\n",
      "                           'name': 'bow'}],\n",
      "              'wisdom': 14},\n",
      " 'Ethelred': {'charisma': 12,\n",
      "              'class': 'Warband member',\n",
      "              'constitution': 16,\n",
      "              'dexterity': 11,\n",
      "              'intelligence': 9,\n",
      "              'level': 4,\n",
      "              'magic items': [{'bonus': '+1',\n",
      "                               'description': '',\n",
      "                               'name': 'shield'},\n",
      "                              {'bonus': '', 'description': '', 'name': ''}],\n",
      "              'name': 'Ethelred',\n",
      "              'strength': 17,\n",
      "              'weapons': [{'damage': 'd8',\n",
      "                           'materials': ['iron', 'wood'],\n",
      "                           'name': 'battleaxe'},\n",
      "                          {'damage': 'd4',\n",
      "                           'materials': ['iron'],\n",
      "                           'name': 'dagger'}],\n",
      "              'wisdom': 7},\n",
      " 'Imitrex': {'charisma': 11,\n",
      "             'class': 'Sourceror',\n",
      "             'constitution': 12,\n",
      "             'dexterity': 14,\n",
      "             'intelligence': 17,\n",
      "             'level': 5,\n",
      "             'magic items': [{'bonus': '',\n",
      "                              'description': 'Placed to the ear, translates '\n",
      "                                             'unknown languages.',\n",
      "                              'name': 'horn of babel'},\n",
      "                             {'bonus': '', 'description': '', 'name': ''}],\n",
      "             'name': 'Imitrex',\n",
      "             'strength': 8,\n",
      "             'weapons': [{'damage': 'd6',\n",
      "                          'materials': ['wood'],\n",
      "                          'name': 'staff'},\n",
      "                         {'damage': '', 'materials': [''], 'name': ''}],\n",
      "             'wisdom': 11},\n",
      " 'Xanax': {'charisma': 10,\n",
      "           'class': 'Runaway thrall',\n",
      "           'constitution': 14,\n",
      "           'dexterity': 15,\n",
      "           'intelligence': 12,\n",
      "           'level': 3,\n",
      "           'magic items': [{'bonus': '',\n",
      "                            'description': 'A silver spoon that turns green on '\n",
      "                                           'contact with poison',\n",
      "                            'name': 'spoon of truth'},\n",
      "                           {'bonus': '', 'description': '', 'name': ''}],\n",
      "           'name': 'Xanax',\n",
      "           'strength': 14,\n",
      "           'weapons': [{'damage': 'd6',\n",
      "                        'materials': ['wood'],\n",
      "                        'name': 'cudgel'},\n",
      "                       {'damage': 'd4',\n",
      "                        'materials': ['iron'],\n",
      "                        'name': 'knife'}],\n",
      "           'wisdom': 9}}\n"
     ]
    }
   ],
   "source": [
    "pprint.pprint(party)"
   ]
  },
  {
   "cell_type": "code",
   "execution_count": 77,
   "metadata": {
    "collapsed": true
   },
   "outputs": [],
   "source": [
    "p2 = []\n",
    "for name in party:\n",
    "    party[name]['_id'] = party[name]['name']\n",
    "    p2.append(party[name])"
   ]
  },
  {
   "cell_type": "code",
   "execution_count": 78,
   "metadata": {
    "collapsed": false
   },
   "outputs": [
    {
     "data": {
      "text/plain": [
       "[{'_id': 'Aelfryth',\n",
       "  'charisma': 14,\n",
       "  'class': 'Thane',\n",
       "  'constitution': 15,\n",
       "  'dexterity': 15,\n",
       "  'intelligence': 11,\n",
       "  'level': 5,\n",
       "  'magic items': [{'bonus': '',\n",
       "    'description': 'Burned in any lamp, its light reveals illusions, invisible creatures, and disguises',\n",
       "    'name': 'oil of revelation'},\n",
       "   {'bonus': '+1', 'description': '', 'name': 'bow'}],\n",
       "  'name': 'Aelfryth',\n",
       "  'strength': 16,\n",
       "  'weapons': [{'damage': 'd8', 'materials': ['iron'], 'name': 'sword'},\n",
       "   {'damage': 'd6', 'materials': ['wood'], 'name': 'bow'}],\n",
       "  'wisdom': 14},\n",
       " {'_id': 'Ethelred',\n",
       "  'charisma': 12,\n",
       "  'class': 'Warband member',\n",
       "  'constitution': 16,\n",
       "  'dexterity': 11,\n",
       "  'intelligence': 9,\n",
       "  'level': 4,\n",
       "  'magic items': [{'bonus': '+1', 'description': '', 'name': 'shield'},\n",
       "   {'bonus': '', 'description': '', 'name': ''}],\n",
       "  'name': 'Ethelred',\n",
       "  'strength': 17,\n",
       "  'weapons': [{'damage': 'd8',\n",
       "    'materials': ['iron', 'wood'],\n",
       "    'name': 'battleaxe'},\n",
       "   {'damage': 'd4', 'materials': ['iron'], 'name': 'dagger'}],\n",
       "  'wisdom': 7},\n",
       " {'_id': 'Xanax',\n",
       "  'charisma': 10,\n",
       "  'class': 'Runaway thrall',\n",
       "  'constitution': 14,\n",
       "  'dexterity': 15,\n",
       "  'intelligence': 12,\n",
       "  'level': 3,\n",
       "  'magic items': [{'bonus': '',\n",
       "    'description': 'A silver spoon that turns green on contact with poison',\n",
       "    'name': 'spoon of truth'},\n",
       "   {'bonus': '', 'description': '', 'name': ''}],\n",
       "  'name': 'Xanax',\n",
       "  'strength': 14,\n",
       "  'weapons': [{'damage': 'd6', 'materials': ['wood'], 'name': 'cudgel'},\n",
       "   {'damage': 'd4', 'materials': ['iron'], 'name': 'knife'}],\n",
       "  'wisdom': 9},\n",
       " {'_id': 'Imitrex',\n",
       "  'charisma': 11,\n",
       "  'class': 'Sourceror',\n",
       "  'constitution': 12,\n",
       "  'dexterity': 14,\n",
       "  'intelligence': 17,\n",
       "  'level': 5,\n",
       "  'magic items': [{'bonus': '',\n",
       "    'description': 'Placed to the ear, translates unknown languages.',\n",
       "    'name': 'horn of babel'},\n",
       "   {'bonus': '', 'description': '', 'name': ''}],\n",
       "  'name': 'Imitrex',\n",
       "  'strength': 8,\n",
       "  'weapons': [{'damage': 'd6', 'materials': ['wood'], 'name': 'staff'},\n",
       "   {'damage': '', 'materials': [''], 'name': ''}],\n",
       "  'wisdom': 11}]"
      ]
     },
     "execution_count": 78,
     "metadata": {},
     "output_type": "execute_result"
    }
   ],
   "source": [
    "p2"
   ]
  },
  {
   "cell_type": "code",
   "execution_count": 79,
   "metadata": {
    "collapsed": false
   },
   "outputs": [],
   "source": [
    "with open('party.json', 'w') as outfile:\n",
    "    json.dump(p2, outfile, indent=2)"
   ]
  },
  {
   "cell_type": "code",
   "execution_count": 80,
   "metadata": {
    "collapsed": false
   },
   "outputs": [
    {
     "name": "stdout",
     "output_type": "stream",
     "text": [
      "[\r\n",
      "  {\r\n",
      "    \"weapons\": [\r\n",
      "      {\r\n",
      "        \"name\": \"sword\",\r\n",
      "        \"materials\": [\r\n",
      "          \"iron\"\r\n",
      "        ],\r\n",
      "        \"damage\": \"d8\"\r\n",
      "      },\r\n",
      "      {\r\n",
      "        \"name\": \"bow\",\r\n",
      "        \"materials\": [\r\n",
      "          \"wood\"\r\n",
      "        ],\r\n",
      "        \"damage\": \"d6\"\r\n",
      "      }\r\n",
      "    ],\r\n",
      "    \"wisdom\": 14,\r\n",
      "    \"class\": \"Thane\",\r\n",
      "    \"intelligence\": 11,\r\n",
      "    \"constitution\": 15,\r\n",
      "    \"magic items\": [\r\n",
      "      {\r\n",
      "        \"bonus\": \"\",\r\n",
      "        \"name\": \"oil of revelation\",\r\n",
      "        \"description\": \"Burned in any lamp, its light reveals illusions, invisible creatures, and disguises\"\r\n",
      "      },\r\n",
      "      {\r\n",
      "        \"bonus\": \"+1\",\r\n",
      "        \"name\": \"bow\",\r\n",
      "        \"description\": \"\"\r\n",
      "      }\r\n",
      "    ],\r\n",
      "    \"dexterity\": 15,\r\n",
      "    \"level\": 5,\r\n",
      "    \"name\": \"Aelfryth\",\r\n",
      "    \"charisma\": 14,\r\n",
      "    \"_id\": \"Aelfryth\",\r\n",
      "    \"strength\": 16\r\n",
      "  },\r\n",
      "  {\r\n",
      "    \"weapons\": [\r\n",
      "      {\r\n",
      "        \"name\": \"battleaxe\",\r\n",
      "        \"materials\": [\r\n",
      "          \"iron\",\r\n",
      "          \"wood\"\r\n",
      "        ],\r\n",
      "        \"damage\": \"d8\"\r\n",
      "      },\r\n",
      "      {\r\n",
      "        \"name\": \"dagger\",\r\n",
      "        \"materials\": [\r\n",
      "          \"iron\"\r\n",
      "        ],\r\n",
      "        \"damage\": \"d4\"\r\n",
      "      }\r\n",
      "    ],\r\n",
      "    \"wisdom\": 7,\r\n",
      "    \"class\": \"Warband member\",\r\n",
      "    \"intelligence\": 9,\r\n",
      "    \"constitution\": 16,\r\n",
      "    \"magic items\": [\r\n",
      "      {\r\n",
      "        \"bonus\": \"+1\",\r\n",
      "        \"name\": \"shield\",\r\n",
      "        \"description\": \"\"\r\n",
      "      },\r\n",
      "      {\r\n",
      "        \"bonus\": \"\",\r\n",
      "        \"name\": \"\",\r\n",
      "        \"description\": \"\"\r\n",
      "      }\r\n",
      "    ],\r\n",
      "    \"dexterity\": 11,\r\n",
      "    \"level\": 4,\r\n",
      "    \"name\": \"Ethelred\",\r\n",
      "    \"charisma\": 12,\r\n",
      "    \"_id\": \"Ethelred\",\r\n",
      "    \"strength\": 17\r\n",
      "  },\r\n",
      "  {\r\n",
      "    \"weapons\": [\r\n",
      "      {\r\n",
      "        \"name\": \"cudgel\",\r\n",
      "        \"materials\": [\r\n",
      "          \"wood\"\r\n",
      "        ],\r\n",
      "        \"damage\": \"d6\"\r\n",
      "      },\r\n",
      "      {\r\n",
      "        \"name\": \"knife\",\r\n",
      "        \"materials\": [\r\n",
      "          \"iron\"\r\n",
      "        ],\r\n",
      "        \"damage\": \"d4\"\r\n",
      "      }\r\n",
      "    ],\r\n",
      "    \"wisdom\": 9,\r\n",
      "    \"class\": \"Runaway thrall\",\r\n",
      "    \"intelligence\": 12,\r\n",
      "    \"constitution\": 14,\r\n",
      "    \"magic items\": [\r\n",
      "      {\r\n",
      "        \"bonus\": \"\",\r\n",
      "        \"name\": \"spoon of truth\",\r\n",
      "        \"description\": \"A silver spoon that turns green on contact with poison\"\r\n",
      "      },\r\n",
      "      {\r\n",
      "        \"bonus\": \"\",\r\n",
      "        \"name\": \"\",\r\n",
      "        \"description\": \"\"\r\n",
      "      }\r\n",
      "    ],\r\n",
      "    \"dexterity\": 15,\r\n",
      "    \"level\": 3,\r\n",
      "    \"name\": \"Xanax\",\r\n",
      "    \"charisma\": 10,\r\n",
      "    \"_id\": \"Xanax\",\r\n",
      "    \"strength\": 14\r\n",
      "  },\r\n",
      "  {\r\n",
      "    \"weapons\": [\r\n",
      "      {\r\n",
      "        \"name\": \"staff\",\r\n",
      "        \"materials\": [\r\n",
      "          \"wood\"\r\n",
      "        ],\r\n",
      "        \"damage\": \"d6\"\r\n",
      "      },\r\n",
      "      {\r\n",
      "        \"name\": \"\",\r\n",
      "        \"materials\": [\r\n",
      "          \"\"\r\n",
      "        ],\r\n",
      "        \"damage\": \"\"\r\n",
      "      }\r\n",
      "    ],\r\n",
      "    \"wisdom\": 11,\r\n",
      "    \"class\": \"Sourceror\",\r\n",
      "    \"intelligence\": 17,\r\n",
      "    \"constitution\": 12,\r\n",
      "    \"magic items\": [\r\n",
      "      {\r\n",
      "        \"bonus\": \"\",\r\n",
      "        \"name\": \"horn of babel\",\r\n",
      "        \"description\": \"Placed to the ear, translates unknown languages.\"\r\n",
      "      },\r\n",
      "      {\r\n",
      "        \"bonus\": \"\",\r\n",
      "        \"name\": \"\",\r\n",
      "        \"description\": \"\"\r\n",
      "      }\r\n",
      "    ],\r\n",
      "    \"dexterity\": 14,\r\n",
      "    \"level\": 5,\r\n",
      "    \"name\": \"Imitrex\",\r\n",
      "    \"charisma\": 11,\r\n",
      "    \"_id\": \"Imitrex\",\r\n",
      "    \"strength\": 8\r\n",
      "  }\r\n",
      "]"
     ]
    }
   ],
   "source": [
    "cat party.json"
   ]
  },
  {
   "cell_type": "code",
   "execution_count": 84,
   "metadata": {
    "collapsed": false
   },
   "outputs": [
    {
     "name": "stdout",
     "output_type": "stream",
     "text": [
      "connected to: 127.0.0.1\r\n",
      "2015-09-12T14:44:27.334-0400 imported 4 objects\r\n"
     ]
    }
   ],
   "source": [
    "!mongoimport -d party -c characters --file party.json --jsonArray\n"
   ]
  },
  {
   "cell_type": "code",
   "execution_count": 85,
   "metadata": {
    "collapsed": false
   },
   "outputs": [
    {
     "name": "stdout",
     "output_type": "stream",
     "text": [
      "db.characters.findOne({'name': 'Xanax'});\r\n"
     ]
    }
   ],
   "source": [
    "cat show_one.js"
   ]
  },
  {
   "cell_type": "code",
   "execution_count": 87,
   "metadata": {
    "collapsed": false
   },
   "outputs": [
    {
     "name": "stdout",
     "output_type": "stream",
     "text": [
      "MongoDB shell version: 2.6.3\n",
      "connecting to: party\n"
     ]
    }
   ],
   "source": [
    "!mongo party show_one.js"
   ]
  },
  {
   "cell_type": "markdown",
   "metadata": {},
   "source": [
    "## Who carries wooden weapons?"
   ]
  },
  {
   "cell_type": "code",
   "execution_count": null,
   "metadata": {
    "collapsed": true
   },
   "outputs": [],
   "source": []
  }
 ],
 "metadata": {
  "kernelspec": {
   "display_name": "Python 3",
   "language": "python",
   "name": "python3"
  },
  "language_info": {
   "codemirror_mode": {
    "name": "ipython",
    "version": 3
   },
   "file_extension": ".py",
   "mimetype": "text/x-python",
   "name": "python",
   "nbconvert_exporter": "python",
   "pygments_lexer": "ipython3",
   "version": "3.5.0rc4"
  }
 },
 "nbformat": 4,
 "nbformat_minor": 0
}
